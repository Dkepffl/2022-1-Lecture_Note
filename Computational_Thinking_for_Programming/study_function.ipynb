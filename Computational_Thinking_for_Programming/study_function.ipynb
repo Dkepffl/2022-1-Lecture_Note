{
  "nbformat": 4,
  "nbformat_minor": 0,
  "metadata": {
    "colab": {
      "name": "study_function.ipynb",
      "provenance": [],
      "collapsed_sections": [],
      "authorship_tag": "ABX9TyNdngqah0dGVyVmCdaIdoh9",
      "include_colab_link": true
    },
    "kernelspec": {
      "name": "python3",
      "display_name": "Python 3"
    },
    "language_info": {
      "name": "python"
    }
  },
  "cells": [
    {
      "cell_type": "markdown",
      "metadata": {
        "id": "view-in-github",
        "colab_type": "text"
      },
      "source": [
        "<a href=\"https://colab.research.google.com/github/Dkepffl/2022-1-Lecture_Note/blob/main/Computational_Thinking_for_Programming/study_function.ipynb\" target=\"_parent\"><img src=\"https://colab.research.google.com/assets/colab-badge.svg\" alt=\"Open In Colab\"/></a>"
      ]
    },
    {
      "cell_type": "markdown",
      "source": [
        "## **10-1. 함수의 이해**\n",
        "___\n",
        "#### **1.함수(function)**\n",
        "- 함수 : **변수 x와 y 사이에 x의 값이 정해지면 따라서 y값이 정해진다는 관계**가 있을 때, y는 x의 함수라고 한다.\n",
        "- example : `print()`, `input()`, `max()`, `min()`,`sum()` 등"
      ],
      "metadata": {
        "id": "Rd5x87OLm8iC"
      }
    },
    {
      "cell_type": "code",
      "source": [
        "x = 1.2\n",
        "y = 5\n",
        "# 출력 함수\n",
        "print(x+y)"
      ],
      "metadata": {
        "colab": {
          "base_uri": "https://localhost:8080/"
        },
        "id": "7sG4OdCToBkN",
        "outputId": "2fca70f0-739d-4fb8-8aba-08209e10f96f"
      },
      "execution_count": 1,
      "outputs": [
        {
          "output_type": "stream",
          "name": "stdout",
          "text": [
            "6.2\n"
          ]
        }
      ]
    },
    {
      "cell_type": "code",
      "source": [
        "# y가 없어도 입력값이 어떤 작용을 통해 결과값을 나오면 함수\n",
        "x = [1, 3, 5, 7, 9]\n",
        "print(max(x))"
      ],
      "metadata": {
        "colab": {
          "base_uri": "https://localhost:8080/"
        },
        "id": "iw3ezZx9ojf2",
        "outputId": "629b0aac-e298-4452-d036-27f314bcc9a7"
      },
      "execution_count": 3,
      "outputs": [
        {
          "output_type": "stream",
          "name": "stdout",
          "text": [
            "9\n"
          ]
        }
      ]
    },
    {
      "cell_type": "code",
      "source": [
        "# 함수 실습\n",
        "def washing(a):\n",
        "  print('물넣기')\n",
        "  for i in range(a):\n",
        "    print('돌리기')\n",
        "  print('물빼기')\n",
        "\n",
        "def rinsing(b):\n",
        "  for i in range(b):\n",
        "    print('물넣기')\n",
        "    print('돌리기')\n",
        "    print('물빼기')\n",
        "\n",
        "def dehydration(c):\n",
        "  for i in range(c):\n",
        "    print('돌리기')"
      ],
      "metadata": {
        "id": "CTYg2hQupPk2"
      },
      "execution_count": 4,
      "outputs": []
    },
    {
      "cell_type": "code",
      "source": [
        "def do_laundary(a, b, c):\n",
        "  washing(a)\n",
        "  rinsing(b)\n",
        "  dehydration(c)\n",
        "  print('\\n빨래 끝~~!!')"
      ],
      "metadata": {
        "id": "AvcpZHZ4qNaH"
      },
      "execution_count": 14,
      "outputs": []
    },
    {
      "cell_type": "code",
      "source": [
        "do_laundary(4,1,1)"
      ],
      "metadata": {
        "colab": {
          "base_uri": "https://localhost:8080/"
        },
        "id": "rdzCxr1UqeIz",
        "outputId": "1e166222-e52e-45be-c31a-8f3dcb6d9285"
      },
      "execution_count": 15,
      "outputs": [
        {
          "output_type": "stream",
          "name": "stdout",
          "text": [
            "물넣기\n",
            "돌리기\n",
            "돌리기\n",
            "돌리기\n",
            "돌리기\n",
            "물빼기\n",
            "물넣기\n",
            "돌리기\n",
            "물빼기\n",
            "돌리기\n",
            "\n",
            "빨래 끝~~!!\n"
          ]
        }
      ]
    },
    {
      "cell_type": "markdown",
      "source": [
        "#### **2.함수의 종류**\n",
        "- 내장 함수(built-in function) : 이미 파이썬에 자체적으로 정의되어 있는 함수\n",
        "- 모듈 함수(module function) : 외부 모듈에 정의되어 있는 함수로 모듈을 import해야 사용 가능하다.\n",
        "- 사용자 정의 함수(user-defined function) : 사용자가 새롭게 정의해서 사용하는 함수."
      ],
      "metadata": {
        "id": "6Md0SFb9nHd2"
      }
    },
    {
      "cell_type": "code",
      "source": [
        "# 이름은 function\n",
        "# 숫자 n을 입력받아, n번 만큼 'Hello World'를 출력하는 함수\n",
        "def function1(n):\n",
        "  for i in range(n):\n",
        "    print('Hello World')\n",
        "\n",
        "function1(3)"
      ],
      "metadata": {
        "colab": {
          "base_uri": "https://localhost:8080/"
        },
        "id": "pydxjkB_sHDc",
        "outputId": "05ad4fab-3bdd-4dd7-b1c1-736ab9ef551d"
      },
      "execution_count": 16,
      "outputs": [
        {
          "output_type": "stream",
          "name": "stdout",
          "text": [
            "Hello World\n",
            "Hello World\n",
            "Hello World\n"
          ]
        }
      ]
    },
    {
      "cell_type": "markdown",
      "source": [
        "#### **3.함수의 이름**\n",
        "- 대소문자를 구분한다\n",
        "- 공백이 허용되지 않는다\n",
        "- 특수 기호를 사용할 수 없다('_'는 사용 가능)\n",
        "- 숫자로 시작할 수 없다\n",
        "- 한글을 허용한다(python에서만)\n",
        "- 다른 함수의 이름과 중복되지 않게 한다\n",
        "- 의미를 담아 이름 짓는 것이 좋다"
      ],
      "metadata": {
        "id": "rFiTWfgTnMut"
      }
    },
    {
      "cell_type": "markdown",
      "source": [
        "#### **4.함수의 동작**"
      ],
      "metadata": {
        "id": "yDr90Jt2nObG"
      }
    },
    {
      "cell_type": "markdown",
      "source": [
        "## **10-2. 함수의 설계**\n",
        "___\n",
        "#### **1.함수의 return**"
      ],
      "metadata": {
        "id": "EmrBl7a2nF_2"
      }
    },
    {
      "cell_type": "code",
      "source": [
        "# 좋지 않은 예시 : return 값이 없음\n",
        "def add(a, b):\n",
        "  print(a + b) \n",
        "\n",
        "add(1, 3)"
      ],
      "metadata": {
        "colab": {
          "base_uri": "https://localhost:8080/"
        },
        "id": "0okXYp7nvpJi",
        "outputId": "f3a678b4-4cac-4fc1-b40d-129ac36a1298"
      },
      "execution_count": 59,
      "outputs": [
        {
          "output_type": "stream",
          "name": "stdout",
          "text": [
            "4\n"
          ]
        }
      ]
    },
    {
      "cell_type": "code",
      "source": [
        "def add(a, b):\n",
        "  return a + b\n",
        "\n",
        "# 간소화가 안 된 예시\n",
        "c = add(1, 3)\n",
        "print(c)"
      ],
      "metadata": {
        "colab": {
          "base_uri": "https://localhost:8080/"
        },
        "id": "P9qZNrMkvugz",
        "outputId": "081eb507-1636-4ebf-8903-07560f961938"
      },
      "execution_count": 49,
      "outputs": [
        {
          "output_type": "stream",
          "name": "stdout",
          "text": [
            "4\n"
          ]
        }
      ]
    },
    {
      "cell_type": "code",
      "source": [
        "def add(a, b):\n",
        "  return a + b\n",
        "  \n",
        "print(add(1, 3))"
      ],
      "metadata": {
        "colab": {
          "base_uri": "https://localhost:8080/"
        },
        "id": "_49Q3kgJv5Eh",
        "outputId": "c4364ec7-9f58-4068-f321-8d958a85ae16"
      },
      "execution_count": 52,
      "outputs": [
        {
          "output_type": "stream",
          "name": "stdout",
          "text": [
            "4\n"
          ]
        }
      ]
    },
    {
      "cell_type": "code",
      "source": [
        "def add_mul(a, b):\n",
        "  add_result = a + b\n",
        "  mul_result = a * b\n",
        "  return add_result # 여기까지만 출력됨\n",
        "  return mul_result # 쓸모없는 코드가 됨\n",
        "\n",
        "a = 2\n",
        "b = 5\n",
        "x = add_mul(a, b)\n",
        "print(x)"
      ],
      "metadata": {
        "colab": {
          "base_uri": "https://localhost:8080/"
        },
        "id": "4fc8FFzEyes4",
        "outputId": "ec5b9175-6a9b-4ef1-d372-20eaad0e213e"
      },
      "execution_count": 65,
      "outputs": [
        {
          "output_type": "stream",
          "name": "stdout",
          "text": [
            "7\n"
          ]
        }
      ]
    },
    {
      "cell_type": "code",
      "source": [
        "def add_mul(a, b):\n",
        "  add_result = a + b\n",
        "  mul_result = a * b\n",
        "  return add_result, mul_result\n",
        "\n",
        "a = 2\n",
        "b = 5\n",
        "x = add_mul(a, b) # tuple 형태의 값\n",
        "print(x)"
      ],
      "metadata": {
        "colab": {
          "base_uri": "https://localhost:8080/"
        },
        "id": "Ctqgc3I2yVZR",
        "outputId": "8dde2172-d391-40f1-ef87-3b7a25f3b542"
      },
      "execution_count": 64,
      "outputs": [
        {
          "output_type": "stream",
          "name": "stdout",
          "text": [
            "(7, 10)\n"
          ]
        }
      ]
    },
    {
      "cell_type": "code",
      "source": [
        "def add_mul(a, b):\n",
        "  add_result = a + b\n",
        "  mul_result = a * b\n",
        "  return add_result, mul_result\n",
        "\n",
        "a = 2\n",
        "b = 5\n",
        "\n",
        "x, y = add_mul(a, b)\n",
        "print(x, y)"
      ],
      "metadata": {
        "colab": {
          "base_uri": "https://localhost:8080/"
        },
        "id": "5ZWy0zeRyw7U",
        "outputId": "0c28ee4d-258b-4766-87e9-b6e0f28c5029"
      },
      "execution_count": 71,
      "outputs": [
        {
          "output_type": "stream",
          "name": "stdout",
          "text": [
            "7 10\n"
          ]
        }
      ]
    },
    {
      "cell_type": "markdown",
      "source": [
        "#### **2. 실습**"
      ],
      "metadata": {
        "id": "uD-b-wd6nV3W"
      }
    },
    {
      "cell_type": "code",
      "source": [
        "# Quiz1\n",
        "def function(a, b):\n",
        "  if a > b:\n",
        "    return a\n",
        "  elif a < b:\n",
        "    return b\n",
        "  return a\n",
        "\n",
        "print(function(1, 3))\n",
        "print(function(3, 1))\n",
        "print(function(1, 1))"
      ],
      "metadata": {
        "colab": {
          "base_uri": "https://localhost:8080/"
        },
        "id": "tOj3XXzNqy7_",
        "outputId": "9a28f3d4-49ed-4598-8e5a-a2f83f20b719"
      },
      "execution_count": 72,
      "outputs": [
        {
          "output_type": "stream",
          "name": "stdout",
          "text": [
            "3\n",
            "3\n",
            "1\n"
          ]
        }
      ]
    },
    {
      "cell_type": "code",
      "source": [
        "# Quiz2\n",
        "def swap(a, b):\n",
        "  return b, a\n",
        "\n",
        "a = 3\n",
        "b = 4\n",
        "a, b = swap(a, b)\n",
        "print(a, b)"
      ],
      "metadata": {
        "colab": {
          "base_uri": "https://localhost:8080/"
        },
        "id": "wyi4Z9cDq6Hs",
        "outputId": "60044f44-990f-430e-af7f-8a9bc02831e2"
      },
      "execution_count": 74,
      "outputs": [
        {
          "output_type": "stream",
          "name": "stdout",
          "text": [
            "4 3\n"
          ]
        }
      ]
    },
    {
      "cell_type": "markdown",
      "source": [
        "#### **3. 지역 변수**\n",
        "- 함수 내에서 생성하여, 함수 내에서만 존재하며 사용 가능한 변수를 지역 변수(local variable)라고 한다.\n",
        "- 함수를 벗어나면 자동으로 소멸하여 사용이 불가능하다.\n",
        "- 서로 다른 함수에서 같은 이름의 변수를 사용하더라도 함수를 벗어나면 소멸되기 때문에 서로 영향을 주지 않는다."
      ],
      "metadata": {
        "id": "de9Y_s0wnZLN"
      }
    },
    {
      "cell_type": "code",
      "source": [
        "def func():\n",
        "  a1 = 1\n",
        "func()\n",
        "print(a1) # 지역 변수라 Error 발생"
      ],
      "metadata": {
        "colab": {
          "base_uri": "https://localhost:8080/",
          "height": 201
        },
        "id": "5sf_piBXzpNy",
        "outputId": "adbff78e-b954-4c5a-de90-dd8e9f064790"
      },
      "execution_count": 76,
      "outputs": [
        {
          "output_type": "error",
          "ename": "NameError",
          "evalue": "ignored",
          "traceback": [
            "\u001b[0;31m---------------------------------------------------------------------------\u001b[0m",
            "\u001b[0;31mNameError\u001b[0m                                 Traceback (most recent call last)",
            "\u001b[0;32m<ipython-input-76-4fa1b86521ea>\u001b[0m in \u001b[0;36m<module>\u001b[0;34m()\u001b[0m\n\u001b[1;32m      2\u001b[0m   \u001b[0ma1\u001b[0m \u001b[0;34m=\u001b[0m \u001b[0;36m1\u001b[0m\u001b[0;34m\u001b[0m\u001b[0;34m\u001b[0m\u001b[0m\n\u001b[1;32m      3\u001b[0m \u001b[0mfunc\u001b[0m\u001b[0;34m(\u001b[0m\u001b[0;34m)\u001b[0m\u001b[0;34m\u001b[0m\u001b[0;34m\u001b[0m\u001b[0m\n\u001b[0;32m----> 4\u001b[0;31m \u001b[0mprint\u001b[0m\u001b[0;34m(\u001b[0m\u001b[0ma1\u001b[0m\u001b[0;34m)\u001b[0m\u001b[0;34m\u001b[0m\u001b[0;34m\u001b[0m\u001b[0m\n\u001b[0m",
            "\u001b[0;31mNameError\u001b[0m: name 'a1' is not defined"
          ]
        }
      ]
    },
    {
      "cell_type": "code",
      "source": [
        "def swap(a, b):\n",
        "  a, b = b, a\n",
        "a = 3\n",
        "b = 4\n",
        "swap(a, b)\n",
        "print(a, b)"
      ],
      "metadata": {
        "colab": {
          "base_uri": "https://localhost:8080/"
        },
        "id": "mWSo-4J_1RNC",
        "outputId": "a39c35cd-9d90-49e2-85d4-9fb369f1c48d"
      },
      "execution_count": 79,
      "outputs": [
        {
          "output_type": "stream",
          "name": "stdout",
          "text": [
            "3 4\n"
          ]
        }
      ]
    },
    {
      "cell_type": "markdown",
      "source": [
        "## **10-3. 함수의 활용**\n",
        "___\n",
        "#### **1.실습**"
      ],
      "metadata": {
        "id": "kOCIXbLFnGQ-"
      }
    },
    {
      "cell_type": "markdown",
      "source": [
        "##### **[Quiz 1]**\n",
        "숫자로 이루어진 리스트를 전달 받아, 이 숫자들의 평균을 구하여 반환하는 함수를 정의하시오."
      ],
      "metadata": {
        "id": "QBU13_UOrTqF"
      }
    },
    {
      "cell_type": "code",
      "source": [
        "def compute_mean(MyList):\n",
        "  return sum(MyList)/len(MyList)"
      ],
      "metadata": {
        "id": "f3wCNo4PrYw8"
      },
      "execution_count": 82,
      "outputs": []
    },
    {
      "cell_type": "code",
      "source": [
        "x = [2, 3, 4, 52, 45, 20]\n",
        "compute_mean(x)"
      ],
      "metadata": {
        "colab": {
          "base_uri": "https://localhost:8080/"
        },
        "id": "587IabsttL2U",
        "outputId": "b290699a-26cd-4cc0-fc77-a516906052cb"
      },
      "execution_count": 83,
      "outputs": [
        {
          "output_type": "execute_result",
          "data": {
            "text/plain": [
              "21.0"
            ]
          },
          "metadata": {},
          "execution_count": 83
        }
      ]
    },
    {
      "cell_type": "markdown",
      "source": [
        "##### **[Quiz 2]**\n",
        "이름을 전달 받아, 'Hello + 이름 ' 형태로 출력하는 함수를 정의하시오.(예를 들어, '이화연'이 전달되었다면, 'Hello 이화연'이 출력된다."
      ],
      "metadata": {
        "id": "_Ngh4wvArZgU"
      }
    },
    {
      "cell_type": "code",
      "source": [
        "def print_name(MyName):\n",
        "  print('Hello ' + MyName)"
      ],
      "metadata": {
        "id": "NIyNYP-trakk"
      },
      "execution_count": 25,
      "outputs": []
    },
    {
      "cell_type": "code",
      "source": [
        "print_name('김화연')"
      ],
      "metadata": {
        "colab": {
          "base_uri": "https://localhost:8080/"
        },
        "id": "lhigskN1tkSc",
        "outputId": "69e7471a-1d46-4131-fd8b-5cac31e3b8f4"
      },
      "execution_count": 26,
      "outputs": [
        {
          "output_type": "stream",
          "name": "stdout",
          "text": [
            "Hello 김화연\n"
          ]
        }
      ]
    },
    {
      "cell_type": "markdown",
      "source": [
        "##### **[Quiz 3]**\n",
        "정수를 전달 받아, 이 정수의 약수들이 담긴 리스트를 반환\n",
        "하는 함수를 정의하시오"
      ],
      "metadata": {
        "id": "_wxa37M_rs3u"
      }
    },
    {
      "cell_type": "code",
      "source": [
        "def compute_divisior(n):\n",
        "  x = []\n",
        "  for i in range(1, n+1):\n",
        "    if n % i == 0:\n",
        "      x.append(i)\n",
        "    i += 1\n",
        "  return x"
      ],
      "metadata": {
        "id": "Y2q1UTn9uBcl"
      },
      "execution_count": 34,
      "outputs": []
    },
    {
      "cell_type": "code",
      "source": [
        "print(compute_divisior(17))"
      ],
      "metadata": {
        "colab": {
          "base_uri": "https://localhost:8080/"
        },
        "id": "WOvNS1MruT61",
        "outputId": "789abefb-c990-4fd4-8c5b-ce0f31e0b035"
      },
      "execution_count": 87,
      "outputs": [
        {
          "output_type": "stream",
          "name": "stdout",
          "text": [
            "[1, 17]\n"
          ]
        }
      ]
    },
    {
      "cell_type": "markdown",
      "source": [
        "##### **[Quiz 4]**\n",
        "두 개의 정수를 전달 받아, 이들의 최대 공약수를 찾아 반환\n",
        "하는 함수를 정의하시오"
      ],
      "metadata": {
        "id": "S_RDcAdorv7a"
      }
    },
    {
      "cell_type": "code",
      "source": [
        "def compute_gcd1(x, y):\n",
        "  gcd = 0\n",
        "  for i in range(1, min(x,y)+1):\n",
        "    if (x % i == 0) & (y % i == 0):\n",
        "      if gcd < i:\n",
        "        gcd = i\n",
        "  return gcd"
      ],
      "metadata": {
        "id": "bEuE16-xuqFc"
      },
      "execution_count": 91,
      "outputs": []
    },
    {
      "cell_type": "code",
      "source": [
        "print(compute_gcd1(36,12))"
      ],
      "metadata": {
        "colab": {
          "base_uri": "https://localhost:8080/"
        },
        "id": "cHRMzNVgvMt2",
        "outputId": "343b3f16-bb2f-468d-b75d-b5e96f4fd0a4"
      },
      "execution_count": 92,
      "outputs": [
        {
          "output_type": "stream",
          "name": "stdout",
          "text": [
            "12\n"
          ]
        }
      ]
    }
  ]
}