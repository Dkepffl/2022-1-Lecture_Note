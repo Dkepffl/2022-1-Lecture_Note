{
  "nbformat": 4,
  "nbformat_minor": 0,
  "metadata": {
    "colab": {
      "name": "Operation.ipynb",
      "provenance": [],
      "authorship_tag": "ABX9TyPGJaJ12MsXD1oHR6JxMGnc",
      "include_colab_link": true
    },
    "kernelspec": {
      "name": "python3",
      "display_name": "Python 3"
    },
    "language_info": {
      "name": "python"
    }
  },
  "cells": [
    {
      "cell_type": "markdown",
      "metadata": {
        "id": "view-in-github",
        "colab_type": "text"
      },
      "source": [
        "<a href=\"https://colab.research.google.com/github/Dkepffl/2022-1-Lecture_Note/blob/main/Computational_Thinking_for_Programming/Operation.ipynb\" target=\"_parent\"><img src=\"https://colab.research.google.com/assets/colab-badge.svg\" alt=\"Open In Colab\"/></a>"
      ]
    },
    {
      "cell_type": "markdown",
      "source": [
        "### 4-1. 사칙연산 연산자\n",
        "##### 1.사칙연산\n",
        "- 덧셈 연산자(+)\n",
        "- 뺄셈 연산자(-)\n",
        "- 곱셈 연산자(*)\n",
        "- 나눗셈 연산자(/)"
      ],
      "metadata": {
        "id": "Gl0P9BPQpaXg"
      }
    },
    {
      "cell_type": "code",
      "execution_count": 3,
      "metadata": {
        "colab": {
          "base_uri": "https://localhost:8080/"
        },
        "id": "pkRKglOnpJ6l",
        "outputId": "5050b011-228f-4280-b45f-8183bf60deb8"
      },
      "outputs": [
        {
          "output_type": "stream",
          "name": "stdout",
          "text": [
            "4\n"
          ]
        }
      ],
      "source": [
        "x = 1\n",
        "y = 3\n",
        "print(x+y)"
      ]
    },
    {
      "cell_type": "code",
      "source": [
        "print(x*y)"
      ],
      "metadata": {
        "colab": {
          "base_uri": "https://localhost:8080/"
        },
        "id": "v2RaWq4xpwGx",
        "outputId": "f7b8b6d7-3465-49cb-f298-1e34d84aa96d"
      },
      "execution_count": 4,
      "outputs": [
        {
          "output_type": "stream",
          "name": "stdout",
          "text": [
            "3\n"
          ]
        }
      ]
    },
    {
      "cell_type": "code",
      "source": [
        "print(x * y + 2)"
      ],
      "metadata": {
        "colab": {
          "base_uri": "https://localhost:8080/"
        },
        "id": "8rHHo7AUpx6R",
        "outputId": "afd83004-3819-461b-9bf6-5651c20f1a1e"
      },
      "execution_count": 6,
      "outputs": [
        {
          "output_type": "stream",
          "name": "stdout",
          "text": [
            "5\n"
          ]
        }
      ]
    },
    {
      "cell_type": "code",
      "source": [
        "print(x + y * 3)"
      ],
      "metadata": {
        "colab": {
          "base_uri": "https://localhost:8080/"
        },
        "id": "72_I2LYTp1h5",
        "outputId": "16e02e10-98c5-4721-b67f-52036e42662b"
      },
      "execution_count": 7,
      "outputs": [
        {
          "output_type": "stream",
          "name": "stdout",
          "text": [
            "10\n"
          ]
        }
      ]
    },
    {
      "cell_type": "markdown",
      "source": [
        "- 컴퓨터 계산기는 우선순위 없이 순차적으로 계산해서 1 + 3 *2의 결과로 8이 나온다."
      ],
      "metadata": {
        "id": "LjFZ2_nzqOr_"
      }
    },
    {
      "cell_type": "markdown",
      "source": [
        "##### 2.사칙연산 우선순위\n",
        "1. 곱셈 연산자, 나눗셈 연산자\n",
        "2. 덧셈 연산자, 뺄셈 연산자"
      ],
      "metadata": {
        "id": "PZ3IpGtVp8ti"
      }
    },
    {
      "cell_type": "code",
      "source": [
        "print(2 * 3 + 2 * 3 + 1) # 6 + 6 + 1"
      ],
      "metadata": {
        "colab": {
          "base_uri": "https://localhost:8080/"
        },
        "id": "XPThHRhSqwnW",
        "outputId": "c8c71131-bca5-4b77-9fef-af8adc5bd5b8"
      },
      "execution_count": 8,
      "outputs": [
        {
          "output_type": "stream",
          "name": "stdout",
          "text": [
            "13\n"
          ]
        }
      ]
    },
    {
      "cell_type": "code",
      "source": [
        "print(2 + 3 * 2 / 3 + 1) # 2 + 6 / 3 + 1 = 2 + 2.0 +1"
      ],
      "metadata": {
        "colab": {
          "base_uri": "https://localhost:8080/"
        },
        "id": "rII5rbO2qyaB",
        "outputId": "2ca9398e-5fb6-46ac-bd33-28bf2b2d9244"
      },
      "execution_count": 9,
      "outputs": [
        {
          "output_type": "stream",
          "name": "stdout",
          "text": [
            "5.0\n"
          ]
        }
      ]
    },
    {
      "cell_type": "code",
      "source": [
        "print(2 * 3 * 2 / 3 * 1) # 12 / 3 * 1 = 4.0 * 1 = 4.0"
      ],
      "metadata": {
        "colab": {
          "base_uri": "https://localhost:8080/"
        },
        "id": "oGtmxwQDq0Fx",
        "outputId": "ee604584-0ff8-4576-e2e8-a77e198d56af"
      },
      "execution_count": 10,
      "outputs": [
        {
          "output_type": "stream",
          "name": "stdout",
          "text": [
            "4.0\n"
          ]
        }
      ]
    },
    {
      "cell_type": "code",
      "source": [
        "print(2 + 3 - 2 + 3 - 1) # 5 - 2 + 3 - 1 = 3 + 3 - 1 = 6 - 1 = 5"
      ],
      "metadata": {
        "colab": {
          "base_uri": "https://localhost:8080/"
        },
        "id": "JO63EM3qq2Ja",
        "outputId": "3e07831d-2bdc-417b-ab8d-09fe9fe4aa73"
      },
      "execution_count": 11,
      "outputs": [
        {
          "output_type": "stream",
          "name": "stdout",
          "text": [
            "5\n"
          ]
        }
      ]
    },
    {
      "cell_type": "markdown",
      "source": [
        "### 4-2. 기타 연산자\n",
        "##### 0. 대입 연산자(=)\n",
        "- 컴퓨터 프로그래밍에서 등호는 '같다'라는 의미가 아닌 **대입 연산자**이다."
      ],
      "metadata": {
        "id": "h8oHS3WUrfNh"
      }
    },
    {
      "cell_type": "markdown",
      "source": [
        "##### 1. 제곱 연산자(**)"
      ],
      "metadata": {
        "id": "E8yek43zrxTi"
      }
    },
    {
      "cell_type": "code",
      "source": [
        "print(2 ** 4)"
      ],
      "metadata": {
        "colab": {
          "base_uri": "https://localhost:8080/"
        },
        "id": "LoLmF6Boro3L",
        "outputId": "27a7c3fe-3b0e-4cdb-edd4-37181ea2d164"
      },
      "execution_count": 12,
      "outputs": [
        {
          "output_type": "stream",
          "name": "stdout",
          "text": [
            "16\n"
          ]
        }
      ]
    },
    {
      "cell_type": "code",
      "source": [
        "x = 3\n",
        "y = 2\n",
        "print(x ** y)"
      ],
      "metadata": {
        "colab": {
          "base_uri": "https://localhost:8080/"
        },
        "id": "7W4zkowxrzHc",
        "outputId": "764936e7-258f-43a2-d2d3-c104a9fca893"
      },
      "execution_count": 13,
      "outputs": [
        {
          "output_type": "stream",
          "name": "stdout",
          "text": [
            "9\n"
          ]
        }
      ]
    },
    {
      "cell_type": "markdown",
      "source": [
        "##### 2. 몫 연산자(//)"
      ],
      "metadata": {
        "id": "Bj6GTXRRr2ZZ"
      }
    },
    {
      "cell_type": "code",
      "source": [
        "print(21 // 4)"
      ],
      "metadata": {
        "colab": {
          "base_uri": "https://localhost:8080/"
        },
        "id": "C-ZU0sOPr6MR",
        "outputId": "bd4e50ed-e2de-446a-b1ef-f99931c7d8e9"
      },
      "execution_count": 14,
      "outputs": [
        {
          "output_type": "stream",
          "name": "stdout",
          "text": [
            "5\n"
          ]
        }
      ]
    },
    {
      "cell_type": "code",
      "source": [
        "x = 3\n",
        "y = 2\n",
        "print(x // y)"
      ],
      "metadata": {
        "colab": {
          "base_uri": "https://localhost:8080/"
        },
        "id": "T9o56Qrvr75q",
        "outputId": "c0ee77c4-e4a8-4c36-c869-b815e5e4daf2"
      },
      "execution_count": 15,
      "outputs": [
        {
          "output_type": "stream",
          "name": "stdout",
          "text": [
            "1\n"
          ]
        }
      ]
    },
    {
      "cell_type": "markdown",
      "source": [
        "##### 3. 나머지 연산자(%)"
      ],
      "metadata": {
        "id": "PxK0xMlwr-zj"
      }
    },
    {
      "cell_type": "code",
      "source": [
        "print(21 % 4)"
      ],
      "metadata": {
        "colab": {
          "base_uri": "https://localhost:8080/"
        },
        "id": "xic0EBQKsHZ3",
        "outputId": "85c6e6f8-7104-41fe-e651-1a022075cf15"
      },
      "execution_count": 16,
      "outputs": [
        {
          "output_type": "stream",
          "name": "stdout",
          "text": [
            "1\n"
          ]
        }
      ]
    },
    {
      "cell_type": "code",
      "source": [
        "x = 3\n",
        "y = 2\n",
        "print(x % y)"
      ],
      "metadata": {
        "colab": {
          "base_uri": "https://localhost:8080/"
        },
        "id": "jSNyNRQcsLsJ",
        "outputId": "a9fcec7a-aca0-4737-b541-debf0f4440a9"
      },
      "execution_count": 17,
      "outputs": [
        {
          "output_type": "stream",
          "name": "stdout",
          "text": [
            "1\n"
          ]
        }
      ]
    },
    {
      "cell_type": "markdown",
      "source": [
        "##### 4. 부호(-)"
      ],
      "metadata": {
        "id": "s5VUyi7asAgS"
      }
    },
    {
      "cell_type": "code",
      "source": [
        "print(2 * -4)"
      ],
      "metadata": {
        "colab": {
          "base_uri": "https://localhost:8080/"
        },
        "id": "TGAMcY1NsRCu",
        "outputId": "c83c74e5-7439-4543-9146-e8438b1efd79"
      },
      "execution_count": 18,
      "outputs": [
        {
          "output_type": "stream",
          "name": "stdout",
          "text": [
            "-8\n"
          ]
        }
      ]
    },
    {
      "cell_type": "code",
      "source": [
        "x = 3\n",
        "y = 2\n",
        "print(-x * -y) # -3 * -2 = 6"
      ],
      "metadata": {
        "colab": {
          "base_uri": "https://localhost:8080/"
        },
        "id": "QNx0r9zzsStx",
        "outputId": "8e99d220-8930-4480-d392-00075ad2cf82"
      },
      "execution_count": 19,
      "outputs": [
        {
          "output_type": "stream",
          "name": "stdout",
          "text": [
            "6\n"
          ]
        }
      ]
    },
    {
      "cell_type": "markdown",
      "source": [
        "##### 5. 연산자 우선순위\n",
        "1. 소괄호 {()}\n",
        "2. 제곱 연산자 {**}\n",
        "3. 부호 {-}\n",
        "4. 곱셈 연산자 {*} 나눗셈 연산자 {/} 몫 연산자 {//)} 나머지 연산자 {%}\n",
        "5. 덧셈 연산자 {+} 뺄셈 연산자 {-)"
      ],
      "metadata": {
        "id": "z1bX5B9dsCWS"
      }
    },
    {
      "cell_type": "code",
      "source": [
        "print(-2 ** 4) # -16\n",
        "print(-(2 ** 4)) # - 16\n",
        "print((-2) ** 4) # 16"
      ],
      "metadata": {
        "colab": {
          "base_uri": "https://localhost:8080/"
        },
        "id": "16EpOyNwsiWi",
        "outputId": "1bfdb54a-75b5-4913-edd7-f7bd9b2c9f2a"
      },
      "execution_count": 20,
      "outputs": [
        {
          "output_type": "stream",
          "name": "stdout",
          "text": [
            "-16\n",
            "-16\n",
            "16\n"
          ]
        }
      ]
    },
    {
      "cell_type": "code",
      "source": [
        "y = 4 + -2.5 / 3.6 # 4 + -0.69444444 = 3.3055555\n",
        "print(y)"
      ],
      "metadata": {
        "colab": {
          "base_uri": "https://localhost:8080/"
        },
        "id": "ySpvjxQhspuR",
        "outputId": "c0cf0adb-d96d-4785-d76d-fc182004d4a3"
      },
      "execution_count": 21,
      "outputs": [
        {
          "output_type": "stream",
          "name": "stdout",
          "text": [
            "3.3055555555555554\n"
          ]
        }
      ]
    },
    {
      "cell_type": "code",
      "source": [
        "x = 1\n",
        "y = 2\n",
        "y *= x + 3 # y *= 4  = 8\n",
        "print(y)"
      ],
      "metadata": {
        "colab": {
          "base_uri": "https://localhost:8080/"
        },
        "id": "vZlLEfMisp0R",
        "outputId": "236a1b5b-2a05-4f27-fe42-b49eb361a90e"
      },
      "execution_count": 23,
      "outputs": [
        {
          "output_type": "stream",
          "name": "stdout",
          "text": [
            "8\n"
          ]
        }
      ]
    },
    {
      "cell_type": "markdown",
      "source": [
        "### 4-3. 연산자 실습\n",
        "##### 1. 복합 대입 연산자\n",
        "- x += y : x = x + y\n",
        "- x -= y : x = x - y\n",
        "- x *= y : x = x '* y\n",
        "- x /= y : x = x / y\n",
        "- x //= y : x = x // y\n",
        "- x %= y : x = x % y\n",
        "- x * *  = y : x = x ** "
      ],
      "metadata": {
        "id": "zOtowuK4tM3y"
      }
    },
    {
      "cell_type": "markdown",
      "source": [
        "* 키보드의 'home'과 'end'를 이용해서 커서를 맨앞과 맨뒤로 이동할 수 있다."
      ],
      "metadata": {
        "id": "MFQiHmkuv8xo"
      }
    },
    {
      "cell_type": "markdown",
      "source": [
        "##### 2. 실습\n",
        "- Example #1 : r = 4일 때, 다음을 계산하여 출력하시오.(pi = 3.14)\n",
        "  - l = 2𝜋r\n",
        "  - s = 𝜋𝑟$^2$ \n",
        "  - v = $\\frac{4}{3}$𝜋r$^3$"
      ],
      "metadata": {
        "id": "vDBgKR3XuDtC"
      }
    },
    {
      "cell_type": "code",
      "source": [
        "r = 4\n",
        "pi = 3.14\n",
        "l = 2 * pi * r\n",
        "s = pi * r ** 2\n",
        "v = (4 / 3) * pi * r ** 3\n",
        "\n",
        "print(l, s, v)"
      ],
      "metadata": {
        "colab": {
          "base_uri": "https://localhost:8080/"
        },
        "id": "kuEk4rovuB4s",
        "outputId": "375972c4-9235-4255-ade8-80f65c744a40"
      },
      "execution_count": 27,
      "outputs": [
        {
          "output_type": "stream",
          "name": "stdout",
          "text": [
            "25.12 50.24 267.94666666666666\n"
          ]
        }
      ]
    },
    {
      "cell_type": "markdown",
      "source": [
        "- Example #2 : x$^2$ + 2x − 3 = 0 의 해를 구하여 출력하시오."
      ],
      "metadata": {
        "id": "KTe8m29KwNxM"
      }
    },
    {
      "cell_type": "code",
      "source": [
        "# Sol1\n",
        "a = 1\n",
        "b = 2\n",
        "c = -3\n",
        "\n",
        "x1 = ((-b) + (b**2 - 4*a*c)**(1/2) )/(2*a)\n",
        "x2 = ((-b) - (b**2 - 4*a*c)**(1/2) )/(2*a)\n",
        "\n",
        "print(x1, x2)"
      ],
      "metadata": {
        "colab": {
          "base_uri": "https://localhost:8080/"
        },
        "id": "ElaEJTjuwWkL",
        "outputId": "c6cbd9d0-6124-412b-f952-b18e2526d39a"
      },
      "execution_count": 30,
      "outputs": [
        {
          "output_type": "stream",
          "name": "stdout",
          "text": [
            "1.0 -3.0\n"
          ]
        }
      ]
    },
    {
      "cell_type": "code",
      "source": [
        "# Sol2 with using library\n",
        "# import library\n",
        "import math \n",
        "\n",
        "# a, b, c 변수\n",
        "a = 1\n",
        "b = 2\n",
        "c = -3\n",
        "\n",
        "# math.sqrt() : compute root\n",
        "# 근의 공식\n",
        "x1 = ((-b) + math.sqrt(b**2 - 4*a*c) )/(2*a)\n",
        "x2 = ((-b) - math.sqrt(b**2 - 4*a*c) )/(2*a)\n",
        "\n",
        "# 출력문\n",
        "print(x1, x2) # print문을 써야 출력됨."
      ],
      "metadata": {
        "colab": {
          "base_uri": "https://localhost:8080/"
        },
        "id": "TfptobX94VdE",
        "outputId": "fc5dbff9-3d19-4327-febf-af5c7970a40c"
      },
      "execution_count": 33,
      "outputs": [
        {
          "output_type": "stream",
          "name": "stdout",
          "text": [
            "1.0 -3.0\n"
          ]
        }
      ]
    },
    {
      "cell_type": "markdown",
      "source": [
        "##### 3. 모듈(Module)\n",
        "- 모듈(module) : 파이썬에서 이미 다른 사람이 만들어 놓은\n",
        "정의와 문장들을 담고있는 파일\n",
        "- 대표적으로 math 모듈, random 모듈 등이 있다. 이 안에는\n",
        "관련되어 있는 여러가지 함수 등이 정의되어 있다."
      ],
      "metadata": {
        "id": "ROF1GPgr4Lhx"
      }
    },
    {
      "cell_type": "code",
      "source": [
        "import math\n",
        "print(math.sin(math.pi / 6)) # 3.14 / 6\n",
        "print(math.sqrt(4)) # root 4\n",
        "print(math.log2(16)) # log\n",
        "print(math.log10(1000)) \n",
        "print(math.factorial(4)) # 4!\n",
        "print(math.gcd(24, 36)) # great common divisor"
      ],
      "metadata": {
        "colab": {
          "base_uri": "https://localhost:8080/"
        },
        "id": "xQxktkK77ykS",
        "outputId": "ae312c39-bd09-4c85-8898-0ffd7c120238"
      },
      "execution_count": 34,
      "outputs": [
        {
          "output_type": "stream",
          "name": "stdout",
          "text": [
            "0.49999999999999994\n",
            "2.0\n",
            "4.0\n",
            "3.0\n",
            "24\n",
            "12\n"
          ]
        }
      ]
    },
    {
      "cell_type": "code",
      "source": [
        "import random\n",
        "\n",
        "print(random.randint(1,5))"
      ],
      "metadata": {
        "colab": {
          "base_uri": "https://localhost:8080/"
        },
        "id": "HVqvvnJ-8UfL",
        "outputId": "27ac79ad-92da-4b3f-fe30-41f877b5f361"
      },
      "execution_count": 36,
      "outputs": [
        {
          "output_type": "stream",
          "name": "stdout",
          "text": [
            "3\n"
          ]
        }
      ]
    },
    {
      "cell_type": "code",
      "source": [
        "import random\n",
        "\n",
        "print(random.random())\n",
        "print(random.randint(0, 1))\n",
        "\n",
        "x = ['김이화', '강이화', '이이화', '최이화']\n",
        "print(random.sample(x, 2))\n",
        "\n",
        "random.shuffle(x)\n",
        "print(x)"
      ],
      "metadata": {
        "colab": {
          "base_uri": "https://localhost:8080/"
        },
        "id": "qQECBvwx9TFG",
        "outputId": "cc400254-30cc-4501-8b00-c02dc2e6b768"
      },
      "execution_count": 42,
      "outputs": [
        {
          "output_type": "stream",
          "name": "stdout",
          "text": [
            "0.6507762506259875\n",
            "0\n",
            "['강이화', '이이화']\n",
            "['이이화', '최이화', '강이화', '김이화']\n"
          ]
        }
      ]
    },
    {
      "cell_type": "code",
      "source": [
        "import webbrowser\n",
        "\n",
        "url = 'www.ewha.ac.kr'\n",
        "webbrowser.open(url)"
      ],
      "metadata": {
        "colab": {
          "base_uri": "https://localhost:8080/"
        },
        "id": "8OUfM0698xXJ",
        "outputId": "5e0b35cd-eaf6-40b3-81b2-2e2661e6aab8"
      },
      "execution_count": 40,
      "outputs": [
        {
          "output_type": "execute_result",
          "data": {
            "text/plain": [
              "False"
            ]
          },
          "metadata": {},
          "execution_count": 40
        }
      ]
    }
  ]
}