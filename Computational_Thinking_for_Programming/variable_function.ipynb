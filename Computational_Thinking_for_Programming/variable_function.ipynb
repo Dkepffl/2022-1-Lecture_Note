{
  "nbformat": 4,
  "nbformat_minor": 0,
  "metadata": {
    "colab": {
      "name": "variable_function.ipynb",
      "provenance": [],
      "authorship_tag": "ABX9TyNZJ0xMgwZIhCilzTjUXIHL",
      "include_colab_link": true
    },
    "kernelspec": {
      "name": "python3",
      "display_name": "Python 3"
    },
    "language_info": {
      "name": "python"
    }
  },
  "cells": [
    {
      "cell_type": "markdown",
      "metadata": {
        "id": "view-in-github",
        "colab_type": "text"
      },
      "source": [
        "<a href=\"https://colab.research.google.com/github/Dkepffl/2022-1-Lecture_Note/blob/main/Computational_Thinking_for_Programming/variable_function.ipynb\" target=\"_parent\"><img src=\"https://colab.research.google.com/assets/colab-badge.svg\" alt=\"Open In Colab\"/></a>"
      ]
    },
    {
      "cell_type": "markdown",
      "source": [
        "## **3-1. 상수, 변수, 함수**\n",
        "___\n",
        "1. **상수(Constant)** :  변하지 않고 항상 같은 값을 가지는 수 ex) 1.2, 5\n",
        "2. **변수(Variable)** :  값이 특정지어지지 않아 임의의 값을 가질 수 있는 문자 ex) x, y\n",
        "3. **함수(Function)** :  변수 x와 y 사이에 x의 값에 따라서 y 값이 정해진다는 관계가 있을 때, y는 x의 함수라고 함. ex) print()\n",
        "```python\n",
        "x = 1.2\n",
        "y = 5\n",
        "print(x*y)\n",
        "```\n",
        "4. **대입 연산자(=)** : 컴퓨터 프로그래밍에서의 등호는 '같다'라는 의미가 아닌 대입 연산자이다. '같다'라는 의미의 기호는 **==** 이다."
      ],
      "metadata": {
        "id": "B5sgUN8PNlD-"
      }
    },
    {
      "cell_type": "code",
      "source": [
        "x == 1.2 # NameError: name 'x' is not defined\n"
      ],
      "metadata": {
        "colab": {
          "base_uri": "https://localhost:8080/",
          "height": 174
        },
        "id": "CxxVb7jUPj4r",
        "outputId": "3d7d22cf-cc65-4ab7-85ad-7b1357c9eb57"
      },
      "execution_count": 2,
      "outputs": [
        {
          "output_type": "error",
          "ename": "NameError",
          "evalue": "ignored",
          "traceback": [
            "\u001b[0;31m---------------------------------------------------------------------------\u001b[0m",
            "\u001b[0;31mNameError\u001b[0m                                 Traceback (most recent call last)",
            "\u001b[0;32m<ipython-input-2-65dadb9c6a12>\u001b[0m in \u001b[0;36m<module>\u001b[0;34m()\u001b[0m\n\u001b[0;32m----> 1\u001b[0;31m \u001b[0mx\u001b[0m \u001b[0;34m==\u001b[0m \u001b[0;36m1.2\u001b[0m \u001b[0;31m# NameError: name 'x' is not defined\u001b[0m\u001b[0;34m\u001b[0m\u001b[0;34m\u001b[0m\u001b[0m\n\u001b[0m",
            "\u001b[0;31mNameError\u001b[0m: name 'x' is not defined"
          ]
        }
      ]
    },
    {
      "cell_type": "code",
      "source": [
        "x = 1.2 # x에 1.2를 대입.\n",
        "x == 1.2 # True"
      ],
      "metadata": {
        "colab": {
          "base_uri": "https://localhost:8080/"
        },
        "id": "OFNhXtYnPudp",
        "outputId": "a44907a7-d53a-4af5-a6ac-a755aff22bf9"
      },
      "execution_count": 4,
      "outputs": [
        {
          "output_type": "execute_result",
          "data": {
            "text/plain": [
              "True"
            ]
          },
          "metadata": {},
          "execution_count": 4
        }
      ]
    },
    {
      "cell_type": "markdown",
      "source": [
        "5. 변수의 이름\n",
        "  - 대소문자를 구분한다.\n",
        "  - 공백이 허용되지 않는다.\n",
        "  - '_'를 제외한 특수 기호를 사용할 수 없다.\n",
        "  - 숫자로 시작할 수 없다.\n",
        "  - 한글을 허용한다.(Only in Python)\n",
        "  - 함수 이름과 중복되지 않게 한다.\n",
        "  - 의미를 담아 이름 짓는 것이 좋다."
      ],
      "metadata": {
        "id": "G4Y8dhEqQN1W"
      }
    },
    {
      "cell_type": "markdown",
      "source": [
        "## **3-2. 변수를 사용한 연산**\n",
        "___\n",
        "1. **문자열 + 숫자** \n",
        "2. **변수를 사용한 연산**\n",
        "3. **주석(comment)** \n"
      ],
      "metadata": {
        "id": "A3kH9bYMRDFp"
      }
    },
    {
      "cell_type": "markdown",
      "source": [
        "## **3-3. 상수, 변수, 함수 실습**\n",
        "___\n"
      ],
      "metadata": {
        "id": "aKgSLoZERSWh"
      }
    }
  ]
}