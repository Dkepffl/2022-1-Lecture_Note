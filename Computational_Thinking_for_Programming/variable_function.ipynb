{
  "nbformat": 4,
  "nbformat_minor": 0,
  "metadata": {
    "colab": {
      "name": "variable_function.ipynb",
      "provenance": [],
      "authorship_tag": "ABX9TyMqj1QH5RD311KWD4cOnOGS",
      "include_colab_link": true
    },
    "kernelspec": {
      "name": "python3",
      "display_name": "Python 3"
    },
    "language_info": {
      "name": "python"
    }
  },
  "cells": [
    {
      "cell_type": "markdown",
      "metadata": {
        "id": "view-in-github",
        "colab_type": "text"
      },
      "source": [
        "<a href=\"https://colab.research.google.com/github/Dkepffl/2022-1-Lecture_Note/blob/main/Computational_Thinking_for_Programming/variable_function.ipynb\" target=\"_parent\"><img src=\"https://colab.research.google.com/assets/colab-badge.svg\" alt=\"Open In Colab\"/></a>"
      ]
    },
    {
      "cell_type": "markdown",
      "source": [
        "## **3-1. 상수, 변수, 함수**\n",
        "___\n",
        "1. **상수(Constant)** :  변하지 않고 항상 같은 값을 가지는 수 ex) 1.2, 5\n",
        "2. **변수(Variable)** :  값이 특정지어지지 않아 임의의 값을 가질 수 있는 문자 ex) x, y\n",
        "3. **함수(Function)** :  변수 x와 y 사이에 x의 값에 따라서 y 값이 정해진다는 관계가 있을 때, y는 x의 함수라고 함. ex) print()\n",
        "```python\n",
        "x = 1.2\n",
        "y = 5\n",
        "print(x*y)\n",
        "```\n",
        "4. **대입 연산자(=)** : 컴퓨터 프로그래밍에서의 등호는 '같다'라는 의미가 아닌 대입 연산자이다. '같다'라는 의미의 기호는 **==** 이다."
      ],
      "metadata": {
        "id": "B5sgUN8PNlD-"
      }
    },
    {
      "cell_type": "code",
      "source": [
        "x == 1.2 # NameError: name 'x' is not defined\n"
      ],
      "metadata": {
        "colab": {
          "base_uri": "https://localhost:8080/",
          "height": 174
        },
        "id": "CxxVb7jUPj4r",
        "outputId": "3d7d22cf-cc65-4ab7-85ad-7b1357c9eb57"
      },
      "execution_count": 2,
      "outputs": [
        {
          "output_type": "error",
          "ename": "NameError",
          "evalue": "ignored",
          "traceback": [
            "\u001b[0;31m---------------------------------------------------------------------------\u001b[0m",
            "\u001b[0;31mNameError\u001b[0m                                 Traceback (most recent call last)",
            "\u001b[0;32m<ipython-input-2-65dadb9c6a12>\u001b[0m in \u001b[0;36m<module>\u001b[0;34m()\u001b[0m\n\u001b[0;32m----> 1\u001b[0;31m \u001b[0mx\u001b[0m \u001b[0;34m==\u001b[0m \u001b[0;36m1.2\u001b[0m \u001b[0;31m# NameError: name 'x' is not defined\u001b[0m\u001b[0;34m\u001b[0m\u001b[0;34m\u001b[0m\u001b[0m\n\u001b[0m",
            "\u001b[0;31mNameError\u001b[0m: name 'x' is not defined"
          ]
        }
      ]
    },
    {
      "cell_type": "code",
      "source": [
        "x = 1.2 # x에 1.2를 대입.\n",
        "x == 1.2 # True"
      ],
      "metadata": {
        "colab": {
          "base_uri": "https://localhost:8080/"
        },
        "id": "OFNhXtYnPudp",
        "outputId": "a44907a7-d53a-4af5-a6ac-a755aff22bf9"
      },
      "execution_count": 4,
      "outputs": [
        {
          "output_type": "execute_result",
          "data": {
            "text/plain": [
              "True"
            ]
          },
          "metadata": {},
          "execution_count": 4
        }
      ]
    },
    {
      "cell_type": "code",
      "source": [
        "x = 1.2\n",
        "y = 5\n",
        "x = 0.5\n",
        "print(x*y)"
      ],
      "metadata": {
        "colab": {
          "base_uri": "https://localhost:8080/"
        },
        "id": "MRIZh37CVOD2",
        "outputId": "ac45bb53-f47e-4963-88fc-3561343a2745"
      },
      "execution_count": 5,
      "outputs": [
        {
          "output_type": "stream",
          "name": "stdout",
          "text": [
            "2.5\n"
          ]
        }
      ]
    },
    {
      "cell_type": "markdown",
      "source": [
        "5. 변수의 이름\n",
        "  - 대소문자를 구분한다.\n",
        "  - 공백이 허용되지 않는다.\n",
        "  - '_'를 제외한 특수 기호를 사용할 수 없다.\n",
        "  - 숫자로 시작할 수 없다.\n",
        "  - 한글을 허용한다.(Only in Python. 예를 들어, R과 Android에서는 문제가 생김)\n",
        "  - 기존의 함수 이름과 중복되지 않게 한다. \n",
        "  - 의미를 담아 이름 짓는 것이 좋다.(데이터베이스를 구성할 때 편하다)"
      ],
      "metadata": {
        "id": "G4Y8dhEqQN1W"
      }
    },
    {
      "cell_type": "markdown",
      "source": [
        "## **3-2. 변수를 사용한 연산**\n",
        "___\n",
        "1. **문자열 + 숫자** \n"
      ],
      "metadata": {
        "id": "A3kH9bYMRDFp"
      }
    },
    {
      "cell_type": "code",
      "source": [
        "# str + str\n",
        "name = input()\n",
        "age = input()\n",
        "print('나는 ' + age + '살 ' + name)"
      ],
      "metadata": {
        "colab": {
          "base_uri": "https://localhost:8080/"
        },
        "id": "djMd796PVZ8q",
        "outputId": "39a5e109-d97f-4cf0-a55c-9b35b16c36bd"
      },
      "execution_count": 9,
      "outputs": [
        {
          "output_type": "stream",
          "name": "stdout",
          "text": [
            "아델리펭귄\n",
            "77\n",
            "나는 77살 아델리펭귄\n"
          ]
        }
      ]
    },
    {
      "cell_type": "code",
      "source": [
        "# str + int\n",
        "print('이름을 입력하세요')\n",
        "name = input()\n",
        "print('나이를 입력하세요')\n",
        "age = input() - 1 # input으로 받은 값의 datatype은 str이기 때문에 숫자 연산을 할 수 없다.\n",
        "print('나는 ' + age + '살 ' + name + '입니다.')"
      ],
      "metadata": {
        "colab": {
          "base_uri": "https://localhost:8080/",
          "height": 303
        },
        "id": "6o5O05zlVyFP",
        "outputId": "ad0c2f27-9dfc-42c9-c6a6-11dc686c8839"
      },
      "execution_count": 10,
      "outputs": [
        {
          "name": "stdout",
          "output_type": "stream",
          "text": [
            "이름을 입력하세요\n",
            "아델리펭귄\n",
            "나이를 입력하세요\n",
            "77\n"
          ]
        },
        {
          "output_type": "error",
          "ename": "TypeError",
          "evalue": "ignored",
          "traceback": [
            "\u001b[0;31m---------------------------------------------------------------------------\u001b[0m",
            "\u001b[0;31mTypeError\u001b[0m                                 Traceback (most recent call last)",
            "\u001b[0;32m<ipython-input-10-f3a22d3ecfcb>\u001b[0m in \u001b[0;36m<module>\u001b[0;34m()\u001b[0m\n\u001b[1;32m      3\u001b[0m \u001b[0mname\u001b[0m \u001b[0;34m=\u001b[0m \u001b[0minput\u001b[0m\u001b[0;34m(\u001b[0m\u001b[0;34m)\u001b[0m\u001b[0;34m\u001b[0m\u001b[0;34m\u001b[0m\u001b[0m\n\u001b[1;32m      4\u001b[0m \u001b[0mprint\u001b[0m\u001b[0;34m(\u001b[0m\u001b[0;34m'나이를 입력하세요'\u001b[0m\u001b[0;34m)\u001b[0m\u001b[0;34m\u001b[0m\u001b[0;34m\u001b[0m\u001b[0m\n\u001b[0;32m----> 5\u001b[0;31m \u001b[0mage\u001b[0m \u001b[0;34m=\u001b[0m \u001b[0minput\u001b[0m\u001b[0;34m(\u001b[0m\u001b[0;34m)\u001b[0m \u001b[0;34m-\u001b[0m \u001b[0;36m1\u001b[0m\u001b[0;34m\u001b[0m\u001b[0;34m\u001b[0m\u001b[0m\n\u001b[0m\u001b[1;32m      6\u001b[0m \u001b[0mprint\u001b[0m\u001b[0;34m(\u001b[0m\u001b[0;34m'나는 '\u001b[0m \u001b[0;34m+\u001b[0m \u001b[0mage\u001b[0m \u001b[0;34m+\u001b[0m \u001b[0;34m'살 '\u001b[0m \u001b[0;34m+\u001b[0m \u001b[0mname\u001b[0m \u001b[0;34m+\u001b[0m \u001b[0;34m'입니다.'\u001b[0m\u001b[0;34m)\u001b[0m\u001b[0;34m\u001b[0m\u001b[0;34m\u001b[0m\u001b[0m\n",
            "\u001b[0;31mTypeError\u001b[0m: unsupported operand type(s) for -: 'str' and 'int'"
          ]
        }
      ]
    },
    {
      "cell_type": "code",
      "source": [
        "# 수정 버전1\n",
        "print('이름을 입력하세요')\n",
        "name = input()\n",
        "print('나이를 입력하세요')\n",
        "age = int(input()) - 1 # string형을 int형으로 변환\n",
        "print('나는 ' + age + '살 ' + name + '입니다.') # TypeError: can only concatenate str (not \"int\") to str"
      ],
      "metadata": {
        "colab": {
          "base_uri": "https://localhost:8080/",
          "height": 284
        },
        "id": "PPBBCKY4Wu2i",
        "outputId": "05a833c0-e796-4351-cf8b-329fc7478f73"
      },
      "execution_count": 14,
      "outputs": [
        {
          "name": "stdout",
          "output_type": "stream",
          "text": [
            "이름을 입력하세요\n",
            "아델리펭귄\n",
            "나이를 입력하세요\n",
            "77\n"
          ]
        },
        {
          "output_type": "error",
          "ename": "TypeError",
          "evalue": "ignored",
          "traceback": [
            "\u001b[0;31m---------------------------------------------------------------------------\u001b[0m",
            "\u001b[0;31mTypeError\u001b[0m                                 Traceback (most recent call last)",
            "\u001b[0;32m<ipython-input-14-acae731131a9>\u001b[0m in \u001b[0;36m<module>\u001b[0;34m()\u001b[0m\n\u001b[1;32m      4\u001b[0m \u001b[0mprint\u001b[0m\u001b[0;34m(\u001b[0m\u001b[0;34m'나이를 입력하세요'\u001b[0m\u001b[0;34m)\u001b[0m\u001b[0;34m\u001b[0m\u001b[0;34m\u001b[0m\u001b[0m\n\u001b[1;32m      5\u001b[0m \u001b[0mage\u001b[0m \u001b[0;34m=\u001b[0m \u001b[0mint\u001b[0m\u001b[0;34m(\u001b[0m\u001b[0minput\u001b[0m\u001b[0;34m(\u001b[0m\u001b[0;34m)\u001b[0m\u001b[0;34m)\u001b[0m \u001b[0;34m-\u001b[0m \u001b[0;36m1\u001b[0m\u001b[0;34m\u001b[0m\u001b[0;34m\u001b[0m\u001b[0m\n\u001b[0;32m----> 6\u001b[0;31m \u001b[0mprint\u001b[0m\u001b[0;34m(\u001b[0m\u001b[0;34m'나는 '\u001b[0m \u001b[0;34m+\u001b[0m \u001b[0mage\u001b[0m \u001b[0;34m+\u001b[0m \u001b[0;34m'살 '\u001b[0m \u001b[0;34m+\u001b[0m \u001b[0mname\u001b[0m \u001b[0;34m+\u001b[0m \u001b[0;34m'입니다.'\u001b[0m\u001b[0;34m)\u001b[0m\u001b[0;34m\u001b[0m\u001b[0;34m\u001b[0m\u001b[0m\n\u001b[0m",
            "\u001b[0;31mTypeError\u001b[0m: can only concatenate str (not \"int\") to str"
          ]
        }
      ]
    },
    {
      "cell_type": "code",
      "source": [
        "# 수정 버전2\n",
        "print('이름을 입력하세요')\n",
        "name = input()\n",
        "print('나이를 입력하세요')\n",
        "age = int(input()) - 1 \n",
        "print('나는 ' + str(age)+ '살 ' + name + '입니다.') # age를 string형으로 변환"
      ],
      "metadata": {
        "colab": {
          "base_uri": "https://localhost:8080/"
        },
        "id": "oRi_jD-KXRTl",
        "outputId": "ae36c4dc-5251-448f-cd81-3145901ee0d8"
      },
      "execution_count": 18,
      "outputs": [
        {
          "output_type": "stream",
          "name": "stdout",
          "text": [
            "이름을 입력하세요\n",
            "아델리펭귄\n",
            "나이를 입력하세요\n",
            "77\n",
            "나는 76살 아델리펭귄입니다.\n"
          ]
        }
      ]
    },
    {
      "cell_type": "markdown",
      "source": [
        "2. **변수를 사용한 연산**\n"
      ],
      "metadata": {
        "id": "tlIZbvIQVXHn"
      }
    },
    {
      "cell_type": "code",
      "source": [
        "x = 1\n",
        "y = 2.5\n",
        "print(x, y)"
      ],
      "metadata": {
        "colab": {
          "base_uri": "https://localhost:8080/"
        },
        "id": "xskh-LoSXl-H",
        "outputId": "42426003-6ab6-40cb-dc0b-e8a7aa52818f"
      },
      "execution_count": 19,
      "outputs": [
        {
          "output_type": "stream",
          "name": "stdout",
          "text": [
            "1 2.5\n"
          ]
        }
      ]
    },
    {
      "cell_type": "code",
      "source": [
        "x = 3\n",
        "y = 4\n",
        "print(x, y)"
      ],
      "metadata": {
        "colab": {
          "base_uri": "https://localhost:8080/"
        },
        "id": "GE2hnmarXqTG",
        "outputId": "ad8bab8f-10a6-4324-f892-14b504e3f783"
      },
      "execution_count": 20,
      "outputs": [
        {
          "output_type": "stream",
          "name": "stdout",
          "text": [
            "3 4\n"
          ]
        }
      ]
    },
    {
      "cell_type": "code",
      "source": [
        "x = 1\n",
        "y = 2.5\n",
        "x = y = 3 # y에 3을 대입하고, 그 y를 x에 대입\n",
        "print(x + y)"
      ],
      "metadata": {
        "colab": {
          "base_uri": "https://localhost:8080/"
        },
        "id": "2sHiafG1XuCO",
        "outputId": "3e2f03ac-f98c-4708-e91e-2bd6d36db412"
      },
      "execution_count": 22,
      "outputs": [
        {
          "output_type": "stream",
          "name": "stdout",
          "text": [
            "6\n"
          ]
        }
      ]
    },
    {
      "cell_type": "markdown",
      "source": [
        "3. **주석(comment)** : 진짜 중요함\n",
        "  - '#' 뒤에 있는 코드는 실행되지 않는다.\n",
        "  - 주석을 이용하여 코드에 직접 설명을 달 수 있다.\n",
        "  - 아래와 같이 작은 따옴표나 큰 따옴표를 이용하여 주석을 여러 줄 작성할 수 있다.\n",
        "  ```python\n",
        "  '''\n",
        "  이 사이에 있는 코드들도 실행되지 않는다.\n",
        "  여러 줄을 주석처리할 때 유용하다.\n",
        "  큰 따옴표를 사용해도 결과는 같다.\n",
        "  '''\n",
        "  ```"
      ],
      "metadata": {
        "id": "9_iaBqCkVX2B"
      }
    },
    {
      "cell_type": "markdown",
      "source": [
        "4. IDLE에서 Script 모드 실행\n",
        "  - IDLE을 실행했을 때, 기본적으로 interactive mode임\n",
        "  - File > new File 을 누르면 'untitled'이라는 script mode 파일이 생성됨\n",
        "  - script mode 에서는 Run > Run module을 선택해야 함"
      ],
      "metadata": {
        "id": "w6g28rVuactf"
      }
    },
    {
      "cell_type": "markdown",
      "source": [
        "## **3-3. 상수, 변수, 함수 실습**\n",
        "___\n"
      ],
      "metadata": {
        "id": "aKgSLoZERSWh"
      }
    },
    {
      "cell_type": "code",
      "source": [
        "x = 12\n",
        "y = 4\n",
        "\n",
        "print(x / y) # float형 : '정수/정수 = 실수'이기 때문에, float형으로 나옴.\n",
        "print(x * y) # int형 : int형 간의 연산은 기본적으로 int형임"
      ],
      "metadata": {
        "colab": {
          "base_uri": "https://localhost:8080/"
        },
        "id": "N1F9muVbdsvH",
        "outputId": "cd32144e-144e-46b4-b7ff-4b24194c2311"
      },
      "execution_count": 26,
      "outputs": [
        {
          "output_type": "stream",
          "name": "stdout",
          "text": [
            "3.0\n",
            "48\n"
          ]
        }
      ]
    },
    {
      "cell_type": "code",
      "source": [
        "x = 1\n",
        "print(type(x),x)\n",
        "x = 1.5\n",
        "print(type(x),x)\n",
        "x = '1.8'\n",
        "print(type(x),x)\n",
        "x = True\n",
        "print(type(x),x)"
      ],
      "metadata": {
        "colab": {
          "base_uri": "https://localhost:8080/"
        },
        "id": "992KVkUOdh15",
        "outputId": "65349c46-89db-432e-9cc3-d17646320739"
      },
      "execution_count": 25,
      "outputs": [
        {
          "output_type": "stream",
          "name": "stdout",
          "text": [
            "<class 'int'> 1\n",
            "<class 'float'> 1.5\n",
            "<class 'str'> 1.8\n",
            "<class 'bool'> True\n"
          ]
        }
      ]
    },
    {
      "cell_type": "code",
      "source": [
        "print('실수를 입력하세요.')\n",
        "x = input()\n",
        "print(type(x), x)\n",
        "x = float(x)\n",
        "print(type(x), x)\n",
        "x = int(x)\n",
        "print(type(x), x)"
      ],
      "metadata": {
        "colab": {
          "base_uri": "https://localhost:8080/"
        },
        "id": "kx2EhtR5eOOX",
        "outputId": "188e3437-5bec-4cbe-b884-734a0e4a8ff4"
      },
      "execution_count": 28,
      "outputs": [
        {
          "output_type": "stream",
          "name": "stdout",
          "text": [
            "실수를 입력하세요.\n",
            "2.45\n",
            "<class 'str'> 2.45\n",
            "<class 'float'> 2.45\n",
            "<class 'int'> 2\n"
          ]
        }
      ]
    }
  ]
}