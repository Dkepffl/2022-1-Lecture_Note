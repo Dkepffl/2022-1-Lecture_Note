{
  "nbformat": 4,
  "nbformat_minor": 0,
  "metadata": {
    "colab": {
      "name": "condition_if.ipynb",
      "provenance": [],
      "authorship_tag": "ABX9TyN4K4kZrtq932zUIR2+dCq+",
      "include_colab_link": true
    },
    "kernelspec": {
      "name": "python3",
      "display_name": "Python 3"
    },
    "language_info": {
      "name": "python"
    }
  },
  "cells": [
    {
      "cell_type": "markdown",
      "metadata": {
        "id": "view-in-github",
        "colab_type": "text"
      },
      "source": [
        "<a href=\"https://colab.research.google.com/github/Dkepffl/2022-1-Lecture_Note/blob/main/Computational_Thinking_for_Programming/condition_if.ipynb\" target=\"_parent\"><img src=\"https://colab.research.google.com/assets/colab-badge.svg\" alt=\"Open In Colab\"/></a>"
      ]
    },
    {
      "cell_type": "markdown",
      "source": [
        "## **5-1. 조건분기문의 이해**\n",
        "___\n",
        "#### **1.알고리즘 순서도**\n",
        "- 순차 구조(sequence)\n",
        "- 조건 구조(condition) : True인가 False인가, 1인가 0인가 등"
      ],
      "metadata": {
        "id": "zpOWjVilESCq"
      }
    },
    {
      "cell_type": "code",
      "execution_count": null,
      "metadata": {
        "colab": {
          "base_uri": "https://localhost:8080/"
        },
        "id": "Zc1bzn3SDmFq",
        "outputId": "aac29483-6000-4f7d-8f3c-c34b4d2f3138"
      },
      "outputs": [
        {
          "name": "stdout",
          "output_type": "stream",
          "text": [
            "정수 입력\n",
            "3\n"
          ]
        }
      ],
      "source": [
        "# 순차 구조\n",
        "print('정수 입력')\n",
        "n = input()\n",
        "n = int(n)"
      ]
    },
    {
      "cell_type": "code",
      "source": [
        "# 조건 구조 1\n",
        "print('정수 입력')\n",
        "n = input()\n",
        "n = int(n)\n",
        "\n",
        "if n > 0:\n",
        "  print('양수')\n",
        "elif n < 0:\n",
        "  print('음수')\n",
        "else:\n",
        "  print('0')"
      ],
      "metadata": {
        "colab": {
          "base_uri": "https://localhost:8080/"
        },
        "id": "hXNqB436FjOC",
        "outputId": "bee49c60-c4c6-4d50-fd6d-2c50e9766323"
      },
      "execution_count": null,
      "outputs": [
        {
          "output_type": "stream",
          "name": "stdout",
          "text": [
            "정수 입력\n",
            "5\n",
            "양수\n"
          ]
        }
      ]
    },
    {
      "cell_type": "code",
      "source": [
        "# 조건 구조 2-1\n",
        "age = input('나이를 입력하세요 : ')\n",
        "age = int(age)\n",
        "\n",
        "if age >= 20:\n",
        "  if age < 30:\n",
        "    print('20대')\n",
        "  else:\n",
        "    print('20대 아님')\n",
        "else:\n",
        "  print('20대 아님')"
      ],
      "metadata": {
        "colab": {
          "base_uri": "https://localhost:8080/"
        },
        "id": "MEUGNLWnGC30",
        "outputId": "d250e1eb-0fe0-4707-bd9f-5bdd37506f97"
      },
      "execution_count": null,
      "outputs": [
        {
          "output_type": "stream",
          "name": "stdout",
          "text": [
            "나이를 입력하세요 : 56\n",
            "20대 아님\n"
          ]
        }
      ]
    },
    {
      "cell_type": "code",
      "source": [
        "# 조건 구조 2-2\n",
        "age = input('나이를 입력하세요 : ')\n",
        "age = int(age)\n",
        "\n",
        "if (age >= 20) & (age < 30):\n",
        "   print('20대')\n",
        "else:\n",
        "  print('20대 아님')"
      ],
      "metadata": {
        "colab": {
          "base_uri": "https://localhost:8080/"
        },
        "id": "cI9gRN40GxHg",
        "outputId": "9a372ba5-a483-4ffd-d960-d4b950cf7eff"
      },
      "execution_count": null,
      "outputs": [
        {
          "output_type": "stream",
          "name": "stdout",
          "text": [
            "나이를 입력하세요 : 50\n",
            "20대 아님\n"
          ]
        }
      ]
    },
    {
      "cell_type": "markdown",
      "source": [
        "## **5-2. if문의 이해**\n",
        "___\n"
      ],
      "metadata": {
        "id": "UdtC5NOwHknm"
      }
    },
    {
      "cell_type": "markdown",
      "source": [
        "#### **1.if문의 사용 방법**\n",
        "```python\n",
        "if conditions(True/False):\n",
        "  actions\n",
        "```"
      ],
      "metadata": {
        "id": "0xV5IQpyX9iN"
      }
    },
    {
      "cell_type": "markdown",
      "source": [
        "#### **2.if문의 사용 예**"
      ],
      "metadata": {
        "id": "MxU8xNVBKEP1"
      }
    },
    {
      "cell_type": "code",
      "source": [
        "# ex 1\n",
        "a = int(input())\n",
        "b = int(input())\n",
        "\n",
        "if a > b:\n",
        "  print(a)\n",
        "else:\n",
        "  print(b)"
      ],
      "metadata": {
        "colab": {
          "base_uri": "https://localhost:8080/"
        },
        "id": "NYqXkatMKwNT",
        "outputId": "d7df26c6-dd51-4f87-eb9c-d87e0eae7b72"
      },
      "execution_count": null,
      "outputs": [
        {
          "output_type": "stream",
          "name": "stdout",
          "text": [
            "6\n",
            "7\n",
            "7\n"
          ]
        }
      ]
    },
    {
      "cell_type": "code",
      "source": [
        "# ex 2\n",
        "n = int(input())\n",
        "\n",
        "if n > 0:\n",
        "  print('양수')\n",
        "elif n < 0:\n",
        "  print('음수')\n",
        "else:\n",
        "  print('0')"
      ],
      "metadata": {
        "colab": {
          "base_uri": "https://localhost:8080/"
        },
        "id": "_vIRq_XcKckI",
        "outputId": "a5264e15-7699-4c85-dea9-0f40252dcb9c"
      },
      "execution_count": null,
      "outputs": [
        {
          "output_type": "stream",
          "name": "stdout",
          "text": [
            "23\n",
            "양수\n"
          ]
        }
      ]
    },
    {
      "cell_type": "code",
      "source": [
        "# ex 3-1\n",
        "age = int(input())\n",
        "if age >= 20:\n",
        "  if age < 30: # 좋은 if문 아님\n",
        "    print('20대')\n",
        "  else:\n",
        "    print('20대 아님')\n",
        "else:\n",
        "  print('20대 아님')"
      ],
      "metadata": {
        "colab": {
          "base_uri": "https://localhost:8080/"
        },
        "id": "H9M3QXCRMh83",
        "outputId": "92091772-fa01-4003-dbfc-2cff390431bb"
      },
      "execution_count": null,
      "outputs": [
        {
          "output_type": "stream",
          "name": "stdout",
          "text": [
            "44\n",
            "20대 아님\n"
          ]
        }
      ]
    },
    {
      "cell_type": "code",
      "source": [
        "# ex 3\n",
        "age = int(input())\n",
        "if 20 <= age and age < 30: # 20 <= age < 30로 쓸 수 있음.\n",
        "  print('20대')\n",
        "else:\n",
        "  print('20대 아님')"
      ],
      "metadata": {
        "colab": {
          "base_uri": "https://localhost:8080/"
        },
        "id": "BR09hZGQLYWl",
        "outputId": "490595c9-b344-4cbf-bbf4-5364bfb89cfb"
      },
      "execution_count": null,
      "outputs": [
        {
          "output_type": "stream",
          "name": "stdout",
          "text": [
            "24\n",
            "20대\n"
          ]
        }
      ]
    },
    {
      "cell_type": "markdown",
      "source": [
        "## **5-3. if문의 활용**\n",
        "___\n"
      ],
      "metadata": {
        "id": "XPiUcECaPXQG"
      }
    },
    {
      "cell_type": "markdown",
      "source": [
        "#### **1.if-elif-else**\n",
        "- 들여쓰기(tab)에 유의하기\n",
        "- 조건이 두 가지 이상일 때 if-elif-else 문을 사용한다.\n",
        "- ending 부분은 else로 써서 끝임을 명시하면 좋다.\n",
        "- elif는 조건을 달아줘야 한다는 것을 기억해야 한다."
      ],
      "metadata": {
        "id": "WJa_qO1zX76b"
      }
    },
    {
      "cell_type": "markdown",
      "source": [
        "#### **2.if문의 활용**\n",
        "- EOL : 종종 주석 처리 문제로 인해 에러가 생김"
      ],
      "metadata": {
        "id": "Lydu1oAAPhAx"
      }
    },
    {
      "cell_type": "code",
      "source": [
        "# 정수 age 입력\n",
        "age = int(input(\"나이를 입력하세요. : \"))\n",
        "\n",
        "# 조건문\n",
        "if a < 0:\n",
        "  print('잘못 입력했습니다.')\n",
        "elif 0 <= age < 10:\n",
        "  print('0대')\n",
        "elif age < 20:\n",
        "  print('10대')\n",
        "elif age < 30:\n",
        "  print('20대')\n",
        "elif age < 40:\n",
        "  print('30대')\n",
        "else:\n",
        "  print('40대 이상')"
      ],
      "metadata": {
        "colab": {
          "base_uri": "https://localhost:8080/"
        },
        "id": "AH0MWrZ4RmCR",
        "outputId": "9df3071d-0532-4443-b782-6c6ae138322f"
      },
      "execution_count": null,
      "outputs": [
        {
          "output_type": "stream",
          "name": "stdout",
          "text": [
            "나이를 입력하세요. : 45\n",
            "40대 이상\n"
          ]
        }
      ]
    },
    {
      "cell_type": "code",
      "source": [
        "# 정수 age 입력\n",
        "age = int(input(\"나이를 입력하세요. : \"))\n",
        "\n",
        "# 조건문\n",
        "if a < 0:\n",
        "  print('잘못 입력했습니다.')\n",
        "\n",
        "if 0 <= age < 10:\n",
        "  print('0대')\n",
        "\n",
        "if 10 <= age < 20:\n",
        "  print('10대')\n",
        "else:\n",
        "  print('40대 이상')\n",
        "\n",
        "# elif를 쓰지 않을 경우, if문이 각각 수행하기 때문에 아래와 같은 결과가 나온다."
      ],
      "metadata": {
        "colab": {
          "base_uri": "https://localhost:8080/"
        },
        "id": "HIIZmBnOWzI7",
        "outputId": "a3e03fc1-d777-4bfd-d48e-541b7f453f80"
      },
      "execution_count": 18,
      "outputs": [
        {
          "output_type": "stream",
          "name": "stdout",
          "text": [
            "나이를 입력하세요. : 3\n",
            "0대\n",
            "40대 이상\n"
          ]
        }
      ]
    }
  ]
}