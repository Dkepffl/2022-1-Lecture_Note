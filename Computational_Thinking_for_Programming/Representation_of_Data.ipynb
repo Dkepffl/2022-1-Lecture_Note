{
  "nbformat": 4,
  "nbformat_minor": 0,
  "metadata": {
    "colab": {
      "name": "Representation_of_Data.ipynb",
      "provenance": [],
      "authorship_tag": "ABX9TyPmgTjZIFOt2O+QcppO28aR",
      "include_colab_link": true
    },
    "kernelspec": {
      "name": "python3",
      "display_name": "Python 3"
    },
    "language_info": {
      "name": "python"
    }
  },
  "cells": [
    {
      "cell_type": "markdown",
      "metadata": {
        "id": "view-in-github",
        "colab_type": "text"
      },
      "source": [
        "<a href=\"https://colab.research.google.com/github/Dkepffl/2022-1-Lecture_Note/blob/main/Computational_Thinking_for_Programming/Representation_of_Data.ipynb\" target=\"_parent\"><img src=\"https://colab.research.google.com/assets/colab-badge.svg\" alt=\"Open In Colab\"/></a>"
      ]
    },
    {
      "cell_type": "markdown",
      "source": [
        "## 2-1. 데이터의 표현 방법\n",
        "#### 1.bit와 byte\n",
        "- **bit** : 'binary digit(이진수)'의 줄임말로 컴퓨터에서 정보를 나타내는 가장 작은 단위이다. 비트 한 개에 0이나 1이 하나 들어간다.\n",
        "- (Ex1) if 2 bit : 4가지 데이터를 표현 가능함.\n",
        "- (Ex2) 그림판의 색상 코드 : R, G, B를 256가지(0~255)로 표현 가능함.\n",
        "- **8 bit = 1B(byte)**\n",
        "- **1 KB = 1024 B**\n",
        "- **1 MB = 1024 KB**"
      ],
      "metadata": {
        "id": "O3QZToJqRvF2"
      }
    }
  ]
}