{
  "nbformat": 4,
  "nbformat_minor": 0,
  "metadata": {
    "colab": {
      "name": "Representation_of_Data.ipynb",
      "provenance": [],
      "collapsed_sections": [],
      "mount_file_id": "1GTwaEUgNBYbRA7QgvZPGHvJ_UFTDYsDO",
      "authorship_tag": "ABX9TyOzrFwUvoWaJ/Ywn4Y0atxD",
      "include_colab_link": true
    },
    "kernelspec": {
      "name": "python3",
      "display_name": "Python 3"
    },
    "language_info": {
      "name": "python"
    }
  },
  "cells": [
    {
      "cell_type": "markdown",
      "metadata": {
        "id": "view-in-github",
        "colab_type": "text"
      },
      "source": [
        "<a href=\"https://colab.research.google.com/github/Dkepffl/2022-1-Lecture_Note/blob/main/Computational_Thinking_for_Programming/Representation_of_Data.ipynb\" target=\"_parent\"><img src=\"https://colab.research.google.com/assets/colab-badge.svg\" alt=\"Open In Colab\"/></a>"
      ]
    },
    {
      "cell_type": "markdown",
      "source": [
        "## **2-1. 데이터의 표현 방법**\n",
        "___\n",
        "#### **1.bit와 byte**\n",
        "- **bit** : 'binary digit(이진수)'의 줄임말로 컴퓨터에서 정보를 나타내는 가장 작은 단위이다. 비트 한 개에 0이나 1이 하나 들어간다.\n",
        "- (Ex1) if 2 bit : 4가지 데이터를 표현 가능함.\n",
        "- (Ex2) 그림판의 색상 코드 : R, G, B를 256가지(0~255)로 표현 가능함.\n",
        "- **8 bit = 1B(byte)**\n",
        "- **1 KB = 1024 B = 8192(=$2^{13}$) bit**\n",
        "- **1 MB = 1024 KB = $2^{23}$ bit**\n"
      ],
      "metadata": {
        "id": "O3QZToJqRvF2"
      }
    },
    {
      "cell_type": "markdown",
      "source": [
        "## **2-2. 데이터 타입**\n",
        "___\n",
        "#### **1.Data Type의 정의**\n",
        "- 자료형(Data Tyep) : 데이터를 식별하는 분류\n",
        "- 자료형을 구분하는 이유? 자료형에 따라 데이터의 크기가 다르기 때문이다.\n",
        "\n",
        "#### **2.Data Type의 종류**\n",
        "- bool : boolean의 약자. 논리를 표현할 수 있는 자료형(True/False)\n",
        "- str : string의 약자. 문자열을 표현할 수 있는 자료형('a'/\"Hello word\")\n",
        "- int : integer의 약자. 정수를 표혈할 수 있는 자료형(-3/0/1/128)\n",
        "- float : 실수를 표현할 수 있는 자료형\n",
        "\n",
        "#### **3.print 함수**\n",
        "- print() : 화면에 데이터를 **출력** 하는 함수\n",
        "\n",
        "#### **4.문자열+문자열**\n",
        "\n",
        "\n",
        "\n"
      ],
      "metadata": {
        "id": "8ArRl4GcXxv_"
      }
    },
    {
      "cell_type": "code",
      "source": [
        "print('Hello'+'World')\n",
        "\n",
        "name = 'Dkepffl'\n",
        "print('내 이름은 ' + name)"
      ],
      "metadata": {
        "colab": {
          "base_uri": "https://localhost:8080/"
        },
        "id": "xm14cchMeEzD",
        "outputId": "8e8f61d3-8f40-4053-9190-00cd6740b9e4"
      },
      "execution_count": 9,
      "outputs": [
        {
          "output_type": "stream",
          "name": "stdout",
          "text": [
            "HelloWorld\n",
            "내 이름은 Dkepffl\n"
          ]
        }
      ]
    },
    {
      "cell_type": "markdown",
      "source": [
        "#### **5. 숫자 + 숫자**"
      ],
      "metadata": {
        "id": "VUnbXiDmeAek"
      }
    },
    {
      "cell_type": "code",
      "source": [
        "print(1 + 3) \n",
        "print(1.0 + 3) # float 형태인 4.0 (Python 3 이상 버전이어야 가능)\n",
        "print(False + 3)\n",
        "print(True + 3) \n",
        "\n",
        "a = 1\n",
        "b = 1.0\n",
        "c = True\n",
        "print(a+b+c) "
      ],
      "metadata": {
        "colab": {
          "base_uri": "https://localhost:8080/"
        },
        "id": "TSUIPpEJeP-C",
        "outputId": "91db4966-b326-49aa-d832-5bec53147ca3"
      },
      "execution_count": 11,
      "outputs": [
        {
          "output_type": "stream",
          "name": "stdout",
          "text": [
            "4\n",
            "4.0\n",
            "3\n",
            "4\n",
            "3.0\n"
          ]
        }
      ]
    },
    {
      "cell_type": "markdown",
      "source": [
        "## **2-3. 데이터 타입 변환**\n",
        "___\n",
        "#### **1.input 함수**\n",
        "- **print()** : 화면에 데이터를 출력하는 함수\n",
        "- **input()** : 사용자에게 데이터를 입력받는 함수\n"
      ],
      "metadata": {
        "id": "7gMhZvteh1ph"
      }
    },
    {
      "cell_type": "code",
      "source": [
        "name = input()\n",
        "print('내 이름은 ' + name)"
      ],
      "metadata": {
        "colab": {
          "base_uri": "https://localhost:8080/"
        },
        "id": "hAO6rhWVidQx",
        "outputId": "3115a5a7-778a-45d1-9a95-f12294df203e"
      },
      "execution_count": 12,
      "outputs": [
        {
          "output_type": "stream",
          "name": "stdout",
          "text": [
            "Dkepffl\n",
            "내 이름은 Dkepffl\n"
          ]
        }
      ]
    },
    {
      "cell_type": "code",
      "source": [
        "name = input()\n",
        "age = input()\n",
        "print('나는 ' + age + '살 ' + name)"
      ],
      "metadata": {
        "colab": {
          "base_uri": "https://localhost:8080/"
        },
        "id": "FqUCN8GdjM8d",
        "outputId": "0b15853a-bd70-48b4-8c5c-703d3fa78dc4"
      },
      "execution_count": 15,
      "outputs": [
        {
          "output_type": "stream",
          "name": "stdout",
          "text": [
            "아델리펭귄\n",
            "23\n",
            "나는 23살 아델리펭귄\n"
          ]
        }
      ]
    },
    {
      "cell_type": "code",
      "source": [
        "a = input() \n",
        "b = input()\n",
        "print(a + b) # a=12, b=34 >>> 1234"
      ],
      "metadata": {
        "colab": {
          "base_uri": "https://localhost:8080/"
        },
        "id": "55XQ6p4Rjivs",
        "outputId": "c45a4803-419a-4d42-fbad-489df251df94"
      },
      "execution_count": 19,
      "outputs": [
        {
          "output_type": "stream",
          "name": "stdout",
          "text": [
            "34\n",
            "56\n",
            "3456\n"
          ]
        }
      ]
    },
    {
      "cell_type": "markdown",
      "source": [
        "\n",
        "#### **2.자료형 변환**\n",
        "- int()\n",
        "- float()\n",
        "- str()\n",
        "- bool()\n"
      ],
      "metadata": {
        "id": "z-wb2o9Iibt9"
      }
    },
    {
      "cell_type": "code",
      "source": [
        "x = input(\"정수를 입력하세요 : \")\n",
        "y = input(\"정수를 입력하세요 : \")\n",
        "a = int(x) # 문자열을 정수로 변환\n",
        "b = int(y)\n",
        "print(a + b)"
      ],
      "metadata": {
        "colab": {
          "base_uri": "https://localhost:8080/"
        },
        "id": "5f4xCO50kNvy",
        "outputId": "249e26ae-e582-4614-8755-ec9d5582d576"
      },
      "execution_count": 20,
      "outputs": [
        {
          "output_type": "stream",
          "name": "stdout",
          "text": [
            "정수를 입력하세요 : 3\n",
            "정수를 입력하세요 : 10\n",
            "13\n"
          ]
        }
      ]
    },
    {
      "cell_type": "markdown",
      "source": [
        "\n",
        "#### **3.자료형 확인 함수**\n",
        "- type()\n",
        "\n"
      ],
      "metadata": {
        "id": "h9d-xChSkMFh"
      }
    },
    {
      "cell_type": "code",
      "source": [
        "print(type(1 + 3))\n",
        "print(type(1 + 3.3))\n",
        "print(type(1.8 + 3.2))\n",
        "print(type('1 + 3'))\n",
        "print(type(\"1 + 3\"))\n",
        "print(type(False))\n",
        "print(type(True))"
      ],
      "metadata": {
        "colab": {
          "base_uri": "https://localhost:8080/"
        },
        "id": "hYYZfC-ulB1L",
        "outputId": "bc7b92a1-dbde-4ecb-ed2f-385e03a2f4fe"
      },
      "execution_count": 22,
      "outputs": [
        {
          "output_type": "stream",
          "name": "stdout",
          "text": [
            "<class 'int'>\n",
            "<class 'float'>\n",
            "<class 'float'>\n",
            "<class 'str'>\n",
            "<class 'str'>\n",
            "<class 'bool'>\n",
            "<class 'bool'>\n"
          ]
        }
      ]
    }
  ]
}