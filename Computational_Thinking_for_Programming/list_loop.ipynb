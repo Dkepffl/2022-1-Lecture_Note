{
  "nbformat": 4,
  "nbformat_minor": 0,
  "metadata": {
    "colab": {
      "name": "list_loop.ipynb",
      "provenance": [],
      "collapsed_sections": [],
      "authorship_tag": "ABX9TyPPsxNBdovYYeUH5pFJrkt8",
      "include_colab_link": true
    },
    "kernelspec": {
      "name": "python3",
      "display_name": "Python 3"
    },
    "language_info": {
      "name": "python"
    }
  },
  "cells": [
    {
      "cell_type": "markdown",
      "metadata": {
        "id": "view-in-github",
        "colab_type": "text"
      },
      "source": [
        "<a href=\"https://colab.research.google.com/github/Dkepffl/2022-1-Lecture_Note/blob/main/Computational_Thinking_for_Programming/list_loop.ipynb\" target=\"_parent\"><img src=\"https://colab.research.google.com/assets/colab-badge.svg\" alt=\"Open In Colab\"/></a>"
      ]
    },
    {
      "cell_type": "markdown",
      "source": [
        "## **7-1. list**\n",
        "___\n",
        "#### **1.list**\n"
      ],
      "metadata": {
        "id": "Vra4t16pJESq"
      }
    },
    {
      "cell_type": "code",
      "execution_count": null,
      "metadata": {
        "colab": {
          "base_uri": "https://localhost:8080/"
        },
        "id": "Cs05ZfYHHzvN",
        "outputId": "80609aa7-8741-46b6-9583-13354ed0327a"
      },
      "outputs": [
        {
          "output_type": "stream",
          "name": "stdout",
          "text": [
            "15\n"
          ]
        }
      ],
      "source": [
        "a = 1\n",
        "b = 2\n",
        "c = 3\n",
        "d = 4\n",
        "e = 5\n",
        "\n",
        "print(a+b+c+d+e)"
      ]
    },
    {
      "cell_type": "code",
      "source": [
        "x = [1, 2, 3, 4, 5]\n",
        "print(x[0])"
      ],
      "metadata": {
        "colab": {
          "base_uri": "https://localhost:8080/"
        },
        "id": "P5Kjv5weIQc8",
        "outputId": "7a6e6c16-6ec5-446d-e654-1d4bde493dc8"
      },
      "execution_count": null,
      "outputs": [
        {
          "output_type": "stream",
          "name": "stdout",
          "text": [
            "1\n"
          ]
        }
      ]
    },
    {
      "cell_type": "code",
      "source": [
        "family = ['mother', 'father', 'sister', 'brother']\n",
        "print(family[1])"
      ],
      "metadata": {
        "colab": {
          "base_uri": "https://localhost:8080/"
        },
        "id": "1z4K1dJSIVqz",
        "outputId": "24ae8458-e0c0-41ea-c40e-5d1f9244c756"
      },
      "execution_count": null,
      "outputs": [
        {
          "output_type": "stream",
          "name": "stdout",
          "text": [
            "father\n"
          ]
        }
      ]
    },
    {
      "cell_type": "code",
      "source": [
        "x = [1, 2, 3, 4, 5]\n",
        "print(x[-1])\n",
        "print(x[-2])"
      ],
      "metadata": {
        "colab": {
          "base_uri": "https://localhost:8080/"
        },
        "id": "1I5g5F03IqY8",
        "outputId": "7c7e22a6-a7b1-4541-b7fe-ed5a98e485b1"
      },
      "execution_count": null,
      "outputs": [
        {
          "output_type": "stream",
          "name": "stdout",
          "text": [
            "5\n",
            "4\n"
          ]
        }
      ]
    },
    {
      "cell_type": "code",
      "source": [
        "x = [1, 2, 3, 4, 5]\n",
        "x.clear()\n",
        "print(x)"
      ],
      "metadata": {
        "colab": {
          "base_uri": "https://localhost:8080/"
        },
        "id": "2NY0Pz_dIuSN",
        "outputId": "ad88ba3f-f59b-49d4-ae94-b52937f4ef02"
      },
      "execution_count": null,
      "outputs": [
        {
          "output_type": "stream",
          "name": "stdout",
          "text": [
            "[]\n"
          ]
        }
      ]
    },
    {
      "cell_type": "code",
      "source": [
        "x = [1, 2, 3, 4, 5]\n",
        "x.append(10)\n",
        "print(x)"
      ],
      "metadata": {
        "colab": {
          "base_uri": "https://localhost:8080/"
        },
        "id": "xGQFIzY8I0k2",
        "outputId": "3fb6f447-a492-49ba-8fc3-addb8b842957"
      },
      "execution_count": null,
      "outputs": [
        {
          "output_type": "stream",
          "name": "stdout",
          "text": [
            "[1, 2, 3, 4, 5, 10]\n"
          ]
        }
      ]
    },
    {
      "cell_type": "code",
      "source": [
        "x = [1, 2, 3, 4, 5]\n",
        "x.remove(3)\n",
        "print(x)"
      ],
      "metadata": {
        "colab": {
          "base_uri": "https://localhost:8080/"
        },
        "id": "6lO5LLYDI057",
        "outputId": "48c30a52-8e73-4c70-cd81-afa4c0ffbdd3"
      },
      "execution_count": null,
      "outputs": [
        {
          "output_type": "stream",
          "name": "stdout",
          "text": [
            "[1, 2, 4, 5]\n"
          ]
        }
      ]
    },
    {
      "cell_type": "code",
      "source": [
        "x = [1, 2, 3, 4, 5]\n",
        "x.reverse()\n",
        "print(x)"
      ],
      "metadata": {
        "colab": {
          "base_uri": "https://localhost:8080/"
        },
        "id": "7fvBime2JVZX",
        "outputId": "b31d33d7-76d6-432c-cf68-9161dcd2fcaa"
      },
      "execution_count": null,
      "outputs": [
        {
          "output_type": "stream",
          "name": "stdout",
          "text": [
            "[5, 4, 3, 2, 1]\n"
          ]
        }
      ]
    },
    {
      "cell_type": "code",
      "source": [
        "x = [3, 1, 4, 2, 5]\n",
        "x.sort()\n",
        "print(x)"
      ],
      "metadata": {
        "colab": {
          "base_uri": "https://localhost:8080/"
        },
        "id": "XOkd2w5hJV4D",
        "outputId": "20e363c8-f5fa-4aa0-9791-7f9229861265"
      },
      "execution_count": null,
      "outputs": [
        {
          "output_type": "stream",
          "name": "stdout",
          "text": [
            "[1, 2, 3, 4, 5]\n"
          ]
        }
      ]
    },
    {
      "cell_type": "code",
      "source": [
        "x = [1, 2, 3, 4, 5]\n",
        "x[1] = 10\n",
        "print(x)"
      ],
      "metadata": {
        "colab": {
          "base_uri": "https://localhost:8080/"
        },
        "id": "94Pob7vOJWDy",
        "outputId": "f4993e1c-dc5a-469d-9722-5c425816ee85"
      },
      "execution_count": null,
      "outputs": [
        {
          "output_type": "stream",
          "name": "stdout",
          "text": [
            "[1, 10, 3, 4, 5]\n"
          ]
        }
      ]
    },
    {
      "cell_type": "markdown",
      "source": [
        "#### **3. Quiz**"
      ],
      "metadata": {
        "id": "S2U_KFhLxO4c"
      }
    },
    {
      "cell_type": "markdown",
      "source": [
        "##### Example #1\n",
        "___\n",
        "1, 2, 3, 4, 5 다섯 개의 정수가 들어있는 list를 구성하고, \n",
        "이들의 평균을 계산하여 출력하는 프로그램을 작성하시오.\n"
      ],
      "metadata": {
        "id": "Wt9ow4mRxIlL"
      }
    },
    {
      "cell_type": "code",
      "source": [
        "x = [1, 2, 3, 4, 5]\n",
        "\n",
        "print((x[0] + x[1] + x[2] + x[3] + x[4])/5)"
      ],
      "metadata": {
        "colab": {
          "base_uri": "https://localhost:8080/"
        },
        "id": "l9e_j17GxRtg",
        "outputId": "72476f83-6106-4e56-8702-52eea9022ba0"
      },
      "execution_count": 1,
      "outputs": [
        {
          "output_type": "stream",
          "name": "stdout",
          "text": [
            "3.0\n"
          ]
        }
      ]
    },
    {
      "cell_type": "code",
      "source": [
        "x = [1, 2, 3, 4, 5]\n",
        "\n",
        "print(sum(x)/5)"
      ],
      "metadata": {
        "colab": {
          "base_uri": "https://localhost:8080/"
        },
        "id": "j_yQtv2rxyWw",
        "outputId": "352d119b-c098-43df-9737-5ca2e2b7ae7f"
      },
      "execution_count": 3,
      "outputs": [
        {
          "output_type": "stream",
          "name": "stdout",
          "text": [
            "3.0\n"
          ]
        }
      ]
    },
    {
      "cell_type": "markdown",
      "source": [
        "##### Example #2\n",
        "___\n",
        "사용자에게 다섯 개의 정수를 입력 받아, 이를 list로\n",
        "구성하고, 이들의 평균을 계산하여 출력하는 프로그램을\n",
        "작성하시오"
      ],
      "metadata": {
        "id": "agUij_hoxLx0"
      }
    },
    {
      "cell_type": "code",
      "source": [
        "x = []\n",
        "\n",
        "# 빈 리스트에는 인덱스를 지정하여 값을 대입할 수 없어, append()를 써야 한다\n",
        "x.append(int(input())) \n",
        "x.append(int(input()))\n",
        "x.append(int(input()))\n",
        "x.append(int(input()))\n",
        "x.append(int(input()))\n",
        "\n",
        "print(sum(x)/5)"
      ],
      "metadata": {
        "colab": {
          "base_uri": "https://localhost:8080/"
        },
        "id": "9OnPpzbjxqch",
        "outputId": "bd8d9893-45cc-4e54-c806-2fc854714bde"
      },
      "execution_count": 7,
      "outputs": [
        {
          "output_type": "stream",
          "name": "stdout",
          "text": [
            "4\n",
            "5\n",
            "3\n",
            "6\n",
            "7\n",
            "5.0\n"
          ]
        }
      ]
    },
    {
      "cell_type": "markdown",
      "source": [
        "## **7-2. 반복문의 이해**\n",
        "___\n",
        "#### **1.list**\n",
        "- 순차 구조(sequence)\n",
        "- 조건 구조(condition) : `if`문\n",
        "- 반복 구조(iteration) : `for`문, `while`문"
      ],
      "metadata": {
        "id": "_2YGYnLKLP92"
      }
    },
    {
      "cell_type": "code",
      "source": [
        "# 반복문\n",
        "x = 0\n",
        "while x < 10:\n",
        "  print(x)\n",
        "  x = x + 1\n",
        "print('끝')"
      ],
      "metadata": {
        "colab": {
          "base_uri": "https://localhost:8080/"
        },
        "id": "AMX0l-bNLd0m",
        "outputId": "1595b92f-cc58-42b1-cd3b-9f652725e906"
      },
      "execution_count": null,
      "outputs": [
        {
          "output_type": "stream",
          "name": "stdout",
          "text": [
            "0\n",
            "1\n",
            "2\n",
            "3\n",
            "4\n",
            "5\n",
            "6\n",
            "7\n",
            "8\n",
            "9\n",
            "끝\n"
          ]
        }
      ]
    },
    {
      "cell_type": "code",
      "source": [
        "print(0)\n",
        "print(1)\n",
        "print(2)\n",
        "print(3)\n",
        "print(4)\n",
        "print(5)\n",
        "print(6)\n",
        "print(7)\n",
        "print(8)\n",
        "print(9)\n",
        "print('끝')"
      ],
      "metadata": {
        "colab": {
          "base_uri": "https://localhost:8080/"
        },
        "id": "Sr7HdT4_Lqcr",
        "outputId": "3ea2d4a4-34a7-47ff-dd92-1b0572d2e73c"
      },
      "execution_count": null,
      "outputs": [
        {
          "output_type": "stream",
          "name": "stdout",
          "text": [
            "0\n",
            "1\n",
            "2\n",
            "3\n",
            "4\n",
            "5\n",
            "6\n",
            "7\n",
            "8\n",
            "9\n",
            "끝\n"
          ]
        }
      ]
    },
    {
      "cell_type": "markdown",
      "source": [
        "#### **2.for**"
      ],
      "metadata": {
        "id": "htlv0u37Lu9b"
      }
    },
    {
      "cell_type": "code",
      "source": [
        "# for 반복문\n",
        "for i in [0,1,2,3,4,5,6,7,8,9]:\n",
        "  print(i)\n",
        "print('끝')"
      ],
      "metadata": {
        "colab": {
          "base_uri": "https://localhost:8080/"
        },
        "id": "wjdU3x1KMOjL",
        "outputId": "3b847b16-15cb-4512-f560-539b2963e737"
      },
      "execution_count": null,
      "outputs": [
        {
          "output_type": "stream",
          "name": "stdout",
          "text": [
            "0\n",
            "1\n",
            "2\n",
            "3\n",
            "4\n",
            "5\n",
            "6\n",
            "7\n",
            "8\n",
            "9\n",
            "끝\n"
          ]
        }
      ]
    },
    {
      "cell_type": "code",
      "source": [
        "# range를 활용한 for 반복문\n",
        "for i in range(0, 10):\n",
        "  print(i)\n",
        "print('끝')"
      ],
      "metadata": {
        "colab": {
          "base_uri": "https://localhost:8080/"
        },
        "id": "XcryP-pxMO27",
        "outputId": "bd8e5aed-b553-4093-affd-a0136b4de06d"
      },
      "execution_count": null,
      "outputs": [
        {
          "output_type": "stream",
          "name": "stdout",
          "text": [
            "0\n",
            "1\n",
            "2\n",
            "3\n",
            "4\n",
            "5\n",
            "6\n",
            "7\n",
            "8\n",
            "9\n",
            "끝\n"
          ]
        }
      ]
    },
    {
      "cell_type": "code",
      "source": [
        "# 들여쓰기에 따른 결과 차이\n",
        "for i in range(0, 10):\n",
        "  print(i)\n",
        "  print('끝') # 들여쓰기 간격이 똑같아 반복문의 영향을 받는다."
      ],
      "metadata": {
        "colab": {
          "base_uri": "https://localhost:8080/"
        },
        "id": "ST3V9K9JMO7E",
        "outputId": "bf6d10cb-334b-4a2a-bcb8-2675d1e8e176"
      },
      "execution_count": null,
      "outputs": [
        {
          "output_type": "stream",
          "name": "stdout",
          "text": [
            "0\n",
            "끝\n",
            "1\n",
            "끝\n",
            "2\n",
            "끝\n",
            "3\n",
            "끝\n",
            "4\n",
            "끝\n",
            "5\n",
            "끝\n",
            "6\n",
            "끝\n",
            "7\n",
            "끝\n",
            "8\n",
            "끝\n",
            "9\n",
            "끝\n"
          ]
        }
      ]
    },
    {
      "cell_type": "markdown",
      "source": [
        "#### **3. while**"
      ],
      "metadata": {
        "id": "7jCJGMXHLxQ8"
      }
    },
    {
      "cell_type": "code",
      "source": [
        "# while 반복문\n",
        "x = 0\n",
        "while x < 10:\n",
        "  print(x)\n",
        "  x = x + 1\n",
        "print('끝')"
      ],
      "metadata": {
        "colab": {
          "base_uri": "https://localhost:8080/"
        },
        "id": "mkH3t_iBNXXC",
        "outputId": "ea669f29-6b50-493f-e839-976bff12ea8a"
      },
      "execution_count": null,
      "outputs": [
        {
          "output_type": "stream",
          "name": "stdout",
          "text": [
            "0\n",
            "1\n",
            "2\n",
            "3\n",
            "4\n",
            "5\n",
            "6\n",
            "7\n",
            "8\n",
            "9\n",
            "끝\n"
          ]
        }
      ]
    },
    {
      "cell_type": "code",
      "source": [
        "x = 0\n",
        "while x < 10:\n",
        "  print(x)\n",
        "  x = x + 1\n",
        "  print('끝')"
      ],
      "metadata": {
        "colab": {
          "base_uri": "https://localhost:8080/"
        },
        "id": "Pl88U1cQNe6M",
        "outputId": "26452749-e23e-4bbc-8363-5e3d7b25f5f3"
      },
      "execution_count": null,
      "outputs": [
        {
          "output_type": "stream",
          "name": "stdout",
          "text": [
            "0\n",
            "끝\n",
            "1\n",
            "끝\n",
            "2\n",
            "끝\n",
            "3\n",
            "끝\n",
            "4\n",
            "끝\n",
            "5\n",
            "끝\n",
            "6\n",
            "끝\n",
            "7\n",
            "끝\n",
            "8\n",
            "끝\n",
            "9\n",
            "끝\n"
          ]
        }
      ]
    },
    {
      "cell_type": "markdown",
      "source": [
        "## **7-1. list**\n",
        "___\n",
        "#### **1.range**"
      ],
      "metadata": {
        "id": "DvmbbfoXL_45"
      }
    },
    {
      "cell_type": "code",
      "source": [
        "for i in range(10): # start를 생략하면 default 값인 0에서 시작\n",
        "  print(i)\n",
        "print('끝')"
      ],
      "metadata": {
        "colab": {
          "base_uri": "https://localhost:8080/"
        },
        "id": "Oy8EV0RPOine",
        "outputId": "2490b967-05f2-4e43-9e2f-1b3f50917464"
      },
      "execution_count": null,
      "outputs": [
        {
          "output_type": "stream",
          "name": "stdout",
          "text": [
            "0\n",
            "1\n",
            "2\n",
            "3\n",
            "4\n",
            "5\n",
            "6\n",
            "7\n",
            "8\n",
            "9\n",
            "끝\n"
          ]
        }
      ]
    },
    {
      "cell_type": "code",
      "source": [
        "for i in range(0, 10): # range(start, end)\n",
        "  print(i)\n",
        "print('끝')"
      ],
      "metadata": {
        "colab": {
          "base_uri": "https://localhost:8080/"
        },
        "id": "tYPSVmYQOlrl",
        "outputId": "4c183d91-7ed6-474e-f849-2dee72475c13"
      },
      "execution_count": null,
      "outputs": [
        {
          "output_type": "stream",
          "name": "stdout",
          "text": [
            "0\n",
            "1\n",
            "2\n",
            "3\n",
            "4\n",
            "5\n",
            "6\n",
            "7\n",
            "8\n",
            "9\n",
            "끝\n"
          ]
        }
      ]
    },
    {
      "cell_type": "code",
      "source": [
        "# range(start, end, step)\n",
        "# integer형이어야 한다\n",
        "for i in range(0, 10, 2): \n",
        "  print(i)\n",
        "print('끝')"
      ],
      "metadata": {
        "colab": {
          "base_uri": "https://localhost:8080/"
        },
        "id": "C1No7ohZOnAK",
        "outputId": "f0559475-3c97-4fe9-f956-16b108ee8bb0"
      },
      "execution_count": null,
      "outputs": [
        {
          "output_type": "stream",
          "name": "stdout",
          "text": [
            "0\n",
            "2\n",
            "4\n",
            "6\n",
            "8\n",
            "끝\n"
          ]
        }
      ]
    },
    {
      "cell_type": "markdown",
      "source": [
        "#### **2.for**"
      ],
      "metadata": {
        "id": "053-aoSWPQcv"
      }
    },
    {
      "cell_type": "code",
      "source": [
        "# list를 먼저 만들고 for 반복문 진행하기\n",
        "menu = ['냉면', '짜장면', '짬뽕', '쌀국수']\n",
        "for i in menu:\n",
        "  print(i)"
      ],
      "metadata": {
        "colab": {
          "base_uri": "https://localhost:8080/"
        },
        "id": "gFhUrE0NPSkr",
        "outputId": "c58968d9-9190-4f33-f910-ddd4ec96d269"
      },
      "execution_count": null,
      "outputs": [
        {
          "output_type": "stream",
          "name": "stdout",
          "text": [
            "냉면\n",
            "짜장면\n",
            "짬뽕\n",
            "쌀국수\n"
          ]
        }
      ]
    },
    {
      "cell_type": "code",
      "source": [
        "x = [1, 2, 3, 4, 5]\n",
        "for i in x:\n",
        "  print(i)"
      ],
      "metadata": {
        "colab": {
          "base_uri": "https://localhost:8080/"
        },
        "id": "uzEbPDXMPTrF",
        "outputId": "3137b18e-f64b-4cc0-afd2-f53820ca464e"
      },
      "execution_count": null,
      "outputs": [
        {
          "output_type": "stream",
          "name": "stdout",
          "text": [
            "1\n",
            "2\n",
            "3\n",
            "4\n",
            "5\n"
          ]
        }
      ]
    },
    {
      "cell_type": "code",
      "source": [
        "for i in [1, 2, 3, 4, 5]:\n",
        "  print(i)"
      ],
      "metadata": {
        "colab": {
          "base_uri": "https://localhost:8080/"
        },
        "id": "3qo2dbmRPVPs",
        "outputId": "106a5863-5dc9-4f05-90c1-d6d7404deb2c"
      },
      "execution_count": null,
      "outputs": [
        {
          "output_type": "stream",
          "name": "stdout",
          "text": [
            "1\n",
            "2\n",
            "3\n",
            "4\n",
            "5\n"
          ]
        }
      ]
    },
    {
      "cell_type": "code",
      "source": [
        "menu = ['냉면', '짜장면', '짬뽕', '쌀국수']\n",
        "for i in menu:\n",
        "  print(i)\n",
        "print(menu)"
      ],
      "metadata": {
        "colab": {
          "base_uri": "https://localhost:8080/"
        },
        "id": "RkFyz1p1Rd8A",
        "outputId": "7d61f7d2-9cf2-484c-e2d4-a0bcb1551ae0"
      },
      "execution_count": null,
      "outputs": [
        {
          "output_type": "stream",
          "name": "stdout",
          "text": [
            "냉면\n",
            "짜장면\n",
            "짬뽕\n",
            "쌀국수\n",
            "['냉면', '짜장면', '짬뽕', '쌀국수']\n"
          ]
        }
      ]
    },
    {
      "cell_type": "code",
      "source": [
        "x = [1, 2, 3, 4, 5]\n",
        "for i in x:\n",
        "  print(i)\n",
        "print(x)"
      ],
      "metadata": {
        "colab": {
          "base_uri": "https://localhost:8080/"
        },
        "id": "qjlEoCFjRoIt",
        "outputId": "ea7124c0-8a8b-40d6-a42c-cb332ca65400"
      },
      "execution_count": null,
      "outputs": [
        {
          "output_type": "stream",
          "name": "stdout",
          "text": [
            "1\n",
            "2\n",
            "3\n",
            "4\n",
            "5\n",
            "[1, 2, 3, 4, 5]\n"
          ]
        }
      ]
    },
    {
      "cell_type": "markdown",
      "source": [
        "#### **3. 실습**"
      ],
      "metadata": {
        "id": "87urAJYwJy14"
      }
    },
    {
      "cell_type": "markdown",
      "source": [
        "##### Example #1\n",
        "___\n",
        "0이상 100미만의 정수를 모두 출력하는 프로그램을\n",
        "작성하시오.\n"
      ],
      "metadata": {
        "id": "hkowphcmNDR-"
      }
    },
    {
      "cell_type": "code",
      "source": [
        "for i in range(0, 100):\n",
        "  print(i)"
      ],
      "metadata": {
        "id": "uCARnydBQODO"
      },
      "execution_count": null,
      "outputs": []
    },
    {
      "cell_type": "markdown",
      "source": [
        "##### Example #2\n",
        "___\n",
        "0이상 100미만의 정수 중, 홀수만 출력하는\n",
        "프로그램을 작성하시오."
      ],
      "metadata": {
        "id": "LCSG2CkHND0F"
      }
    },
    {
      "cell_type": "code",
      "source": [
        "for i in range(0, 100):\n",
        "  if i % 2 != 0: # i % 2 == 1로 해도 됨\n",
        "    print(i)"
      ],
      "metadata": {
        "id": "UreMA9nIQUKL"
      },
      "execution_count": null,
      "outputs": []
    },
    {
      "cell_type": "code",
      "source": [
        "for i in range(1, 100, 2):\n",
        "  print(i)"
      ],
      "metadata": {
        "id": "I9GWfT210EMQ"
      },
      "execution_count": null,
      "outputs": []
    },
    {
      "cell_type": "markdown",
      "source": [
        "##### Example #3\n",
        "___\n",
        "1, 2, 3, 4, 5 다섯 개의 정수가 들어있는 list를 구성하고, \n",
        "이들의 평균을 계산하여 출력하는 프로그램을 작성하시오."
      ],
      "metadata": {
        "id": "BqXT-yJeKArP"
      }
    },
    {
      "cell_type": "code",
      "source": [
        "x = [1, 2, 3, 4, 5]\n",
        "mysum = 0\n",
        "\n",
        "for i in range(0, 5, 1): # 시험에서 range 함수 인자 정확히 쓰기\n",
        "  mysum += x[i]\n",
        "\n",
        "mymean = mysum/len(x)\n",
        "print(mymean)"
      ],
      "metadata": {
        "colab": {
          "base_uri": "https://localhost:8080/"
        },
        "id": "yF_Lz8yvKEDW",
        "outputId": "41b71f69-7194-450f-a6eb-d4e3195ceab9"
      },
      "execution_count": 4,
      "outputs": [
        {
          "output_type": "stream",
          "name": "stdout",
          "text": [
            "3.0\n"
          ]
        }
      ]
    },
    {
      "cell_type": "markdown",
      "source": [
        "##### Example #4\n",
        "___\n",
        "사용자에게 다섯 개의 정수를 입력 받아, 이를 list로\n",
        "구성하고, 이들의 평균을 계산하여 출력하는 프로그램을\n",
        "작성하시오"
      ],
      "metadata": {
        "id": "uvqTTOH8KEqF"
      }
    },
    {
      "cell_type": "code",
      "source": [
        "x = []\n",
        "mysum = 0\n",
        "\n",
        "for i in range(0, 5, 1):\n",
        "  x.append(int(input()))\n",
        "\n",
        "for i in range(0, 5, 1):\n",
        "  mysum += x[i]\n",
        "\n",
        "mymean = mysum/len(x)\n",
        "print(mymean)"
      ],
      "metadata": {
        "colab": {
          "base_uri": "https://localhost:8080/"
        },
        "id": "p78DhfmGKmpt",
        "outputId": "e6660ca2-d5f8-4c30-dfe0-d48504710760"
      },
      "execution_count": 8,
      "outputs": [
        {
          "output_type": "stream",
          "name": "stdout",
          "text": [
            "23\n",
            "45\n",
            "1\n",
            "6\n",
            "3\n",
            "15.6\n"
          ]
        }
      ]
    },
    {
      "cell_type": "markdown",
      "source": [
        "#### **4. while문**"
      ],
      "metadata": {
        "id": "9wjacWxTQ9qG"
      }
    }
  ]
}