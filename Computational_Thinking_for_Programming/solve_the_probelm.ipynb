{
  "nbformat": 4,
  "nbformat_minor": 0,
  "metadata": {
    "colab": {
      "name": "solve_the_probelm.ipynb",
      "provenance": [],
      "authorship_tag": "ABX9TyMGtgxxIGHxYxIRKqVZXQA+",
      "include_colab_link": true
    },
    "kernelspec": {
      "name": "python3",
      "display_name": "Python 3"
    },
    "language_info": {
      "name": "python"
    }
  },
  "cells": [
    {
      "cell_type": "markdown",
      "metadata": {
        "id": "view-in-github",
        "colab_type": "text"
      },
      "source": [
        "<a href=\"https://colab.research.google.com/github/Dkepffl/2022-1-Lecture_Note/blob/main/Computational_Thinking_for_Programming/solve_the_probelm.ipynb\" target=\"_parent\"><img src=\"https://colab.research.google.com/assets/colab-badge.svg\" alt=\"Open In Colab\"/></a>"
      ]
    },
    {
      "cell_type": "markdown",
      "source": [
        "## **14-1. 문제 해결1**\n",
        "___\n"
      ],
      "metadata": {
        "id": "s48nndetOW8l"
      }
    },
    {
      "cell_type": "markdown",
      "source": [
        "##### | **Quiz #1**\n",
        " change(price, received) 함수는 실제 물건의\n",
        "가격(price)과 지불 금액(received)을 비교하여\n",
        "거스름돈을 반환하는 함수이다. change 함수를\n",
        "정의하시오."
      ],
      "metadata": {
        "id": "PBoFpQWjOhpT"
      }
    },
    {
      "cell_type": "code",
      "source": [
        "def change(price, received):\n",
        "  return received - price\n",
        "\n",
        "print(change(18000, 50000))"
      ],
      "metadata": {
        "colab": {
          "base_uri": "https://localhost:8080/"
        },
        "id": "vqykwpWKOu_8",
        "outputId": "bf0694ac-dc3b-4c96-ba28-6111bc70b2fc"
      },
      "execution_count": 3,
      "outputs": [
        {
          "output_type": "stream",
          "name": "stdout",
          "text": [
            "32000\n"
          ]
        }
      ]
    },
    {
      "cell_type": "markdown",
      "source": [
        "##### | **Quiz #2**\n",
        " change(price, received) 함수는 실제 물건의\n",
        "가격(price)과 지불 금액(received)을 비교하여\n",
        "거스름돈을 출력하는 함수이다. 이 때, 거스름돈을\n",
        "권종에 따라 분류하여 출력할 수 있도록 함수를\n",
        "설계하시오. 거스름돈의 최대 금액은 50000원권으로 제한하며, 최소 금액은 1000원권으로 제한한다. \n",
        "지폐의 개수가 최소가 되도록 한다.\n",
        "\n",
        "\n",
        "(ex. price = 18000, received = 50000 라면 다음과\n",
        "같은 결과가 출력)\n",
        "\n",
        "50000원x0\n",
        "\n",
        "10000원x3\n",
        "\n",
        "5000원x0\n",
        "\n",
        "1000원x2"
      ],
      "metadata": {
        "id": "DvFm21ktPSUc"
      }
    },
    {
      "cell_type": "code",
      "source": [
        "def change(price, received):\n",
        "  res = received - price\n",
        "  money = [50000, 10000, 5000, 1000]\n",
        "  for i in money:\n",
        "    print('{}원 권 : {}장'.format(i, res // i))\n",
        "    res = res % i\n",
        "  return received - price\n",
        "\n",
        "print(change(18000, 50000))"
      ],
      "metadata": {
        "colab": {
          "base_uri": "https://localhost:8080/"
        },
        "id": "fqUERNZePgoH",
        "outputId": "e0a991f1-34cf-40be-93b1-a7e300a79e5b"
      },
      "execution_count": 11,
      "outputs": [
        {
          "output_type": "stream",
          "name": "stdout",
          "text": [
            "50000원 권 : 0장\n",
            "10000원 권 : 3장\n",
            "5000원 권 : 0장\n",
            "1000원 권 : 2장\n",
            "32000\n"
          ]
        }
      ]
    },
    {
      "cell_type": "markdown",
      "source": [
        "##### | **Quiz #3**\n",
        "양의 정수(n)를 전달 받아, 다음과 같은 패턴을 출력하는\n",
        "함수를 작성하시오.\n",
        "```python\n",
        "* \n",
        "* * \n",
        "* * * \n",
        "* * * * \n",
        "* * * * * \n",
        "```"
      ],
      "metadata": {
        "id": "4Vybx-HLRp7K"
      }
    },
    {
      "cell_type": "code",
      "source": [
        "def pattern(n):\n",
        "  for i in range(n):\n",
        "    for j in range(i+1):\n",
        "      print('*', end = ' ') # 구분자(줄바꿈 없음)\n",
        "    print()"
      ],
      "metadata": {
        "id": "ud5DmT2RR4Zi"
      },
      "execution_count": 40,
      "outputs": []
    },
    {
      "cell_type": "code",
      "source": [
        "pattern(3)"
      ],
      "metadata": {
        "colab": {
          "base_uri": "https://localhost:8080/"
        },
        "id": "7vw-E5GHSpPK",
        "outputId": "75e13ff4-740f-472d-dd4a-10dcdda2a54d"
      },
      "execution_count": 41,
      "outputs": [
        {
          "output_type": "stream",
          "name": "stdout",
          "text": [
            "* \n",
            "* * \n",
            "* * * \n"
          ]
        }
      ]
    },
    {
      "cell_type": "code",
      "source": [
        "pattern(5)"
      ],
      "metadata": {
        "colab": {
          "base_uri": "https://localhost:8080/"
        },
        "id": "58rezxRQSqrj",
        "outputId": "24494ba4-e6de-451a-cc4f-b6b22052a32a"
      },
      "execution_count": 42,
      "outputs": [
        {
          "output_type": "stream",
          "name": "stdout",
          "text": [
            "* \n",
            "* * \n",
            "* * * \n",
            "* * * * \n",
            "* * * * * \n"
          ]
        }
      ]
    },
    {
      "cell_type": "markdown",
      "source": [
        "##### | **Quiz #4**\n",
        "양의 정수(n)를 전달 받아, 다음과 같은 패턴을 출력하는\n",
        "함수를 작성하시오.\n",
        "```python\n",
        "* * * * * \n",
        "* * * * \n",
        "* * * \n",
        "* * \n",
        "* \n",
        "```"
      ],
      "metadata": {
        "id": "6sHFBNelTHgS"
      }
    },
    {
      "cell_type": "code",
      "source": [
        "# my answer\n",
        "def pattern(n):\n",
        "  for i in range(n+1):\n",
        "    for j in range(n+1-i):\n",
        "      print('*', end = ' ') # 구분자 변경(줄바꿈 없음)\n",
        "    print()"
      ],
      "metadata": {
        "id": "nNpPJKnpTGau"
      },
      "execution_count": 48,
      "outputs": []
    },
    {
      "cell_type": "code",
      "source": [
        "# solution\n",
        "def pattern(n):\n",
        "  for i in range(n):\n",
        "    for j in range(n):\n",
        "      if j < i:\n",
        "        print(' ', end = ' ') # 구분자 변경(줄바꿈 없음)\n",
        "      else:\n",
        "        print('*', end = ' ') # 구분자 변경(줄바꿈 없음)\n",
        "    print()"
      ],
      "metadata": {
        "id": "K7kgvjRkV5D4"
      },
      "execution_count": 45,
      "outputs": []
    },
    {
      "cell_type": "code",
      "source": [
        "pattern(3)"
      ],
      "metadata": {
        "colab": {
          "base_uri": "https://localhost:8080/"
        },
        "id": "GBBOzV9bTboN",
        "outputId": "6f15025b-6f63-40c3-e8ea-a10c4f0adcb4"
      },
      "execution_count": 49,
      "outputs": [
        {
          "output_type": "stream",
          "name": "stdout",
          "text": [
            "* * * * \n",
            "* * * \n",
            "* * \n",
            "* \n"
          ]
        }
      ]
    },
    {
      "cell_type": "code",
      "source": [
        "pattern(5)"
      ],
      "metadata": {
        "colab": {
          "base_uri": "https://localhost:8080/"
        },
        "id": "HK4gB-pXTeLJ",
        "outputId": "3d306f03-1827-4631-af1f-d9ec34c83e4e"
      },
      "execution_count": 35,
      "outputs": [
        {
          "output_type": "stream",
          "name": "stdout",
          "text": [
            "* * * * * \n",
            "* * * * \n",
            "* * * \n",
            "* * \n",
            "* \n"
          ]
        }
      ]
    },
    {
      "cell_type": "markdown",
      "source": [
        "## **14-2. 문제 해결2**\n",
        "___"
      ],
      "metadata": {
        "id": "aDwW7rrbTwAZ"
      }
    },
    {
      "cell_type": "markdown",
      "source": [
        "##### | **Quiz #5**\n",
        "sort(x) 함수는 전달 받은 리스트(x)의 원소들을 오름차순으로\n",
        "정렬하여 반환하는 함수이다. sort(x) 함수를 정의하시오."
      ],
      "metadata": {
        "id": "4FXqjBTYT6QG"
      }
    },
    {
      "cell_type": "code",
      "source": [
        "def sort(x):\n",
        "  for i in range(0, len(x)-1):\n",
        "    for j in range(0, len(x)-i-1):\n",
        "      if x[j] > x[j+1]:\n",
        "        x[j], x[j+1] = x[j+1], x[j]\n",
        "\n",
        "  return x\n",
        "\n",
        "print(sort([1, 8, 5, 3, 7]))"
      ],
      "metadata": {
        "colab": {
          "base_uri": "https://localhost:8080/"
        },
        "id": "OXRtY3JSWbfB",
        "outputId": "9ce639ca-49ba-4c97-de51-c826bfda6f79"
      },
      "execution_count": 63,
      "outputs": [
        {
          "output_type": "stream",
          "name": "stdout",
          "text": [
            "[1, 3, 5, 7, 8]\n"
          ]
        }
      ]
    },
    {
      "cell_type": "code",
      "source": [
        "# solution2\n",
        "def sort2(x):\n",
        "  y = []\n",
        "  for i in range(len(x)):\n",
        "    y.append(min(x))\n",
        "    x[x.index(min(x))] = max(x)\n",
        "  return y\n",
        "\n",
        "print(sort2([1, 8, 5, 3, 7]))"
      ],
      "metadata": {
        "colab": {
          "base_uri": "https://localhost:8080/"
        },
        "id": "f8S_L887Y4O4",
        "outputId": "94baeae3-f9a7-4a33-ae8b-22597b27b5ad"
      },
      "execution_count": 64,
      "outputs": [
        {
          "output_type": "stream",
          "name": "stdout",
          "text": [
            "[1, 3, 5, 7, 8]\n"
          ]
        }
      ]
    },
    {
      "cell_type": "markdown",
      "source": [
        "##### | **Quiz #6**\n",
        "median(x) 함수는 전달 받은 리스트(x)의 중간 값을 찾아\n",
        "반환하는 함수이다. median(x) 함수를 정의하시오."
      ],
      "metadata": {
        "id": "IX0l_znMUceS"
      }
    },
    {
      "cell_type": "code",
      "source": [
        "def median(x):\n",
        "  sort(x)\n",
        "  return x[int((len(x))/2)]\n",
        "\n",
        "print(median([1, 8, 5, 3, 7]))"
      ],
      "metadata": {
        "colab": {
          "base_uri": "https://localhost:8080/"
        },
        "id": "d3KFZnnZYuyg",
        "outputId": "14bb7ea5-a729-41c3-f5ff-0c410d4048a5"
      },
      "execution_count": 75,
      "outputs": [
        {
          "output_type": "stream",
          "name": "stdout",
          "text": [
            "5\n"
          ]
        }
      ]
    },
    {
      "cell_type": "markdown",
      "source": [
        "##### | **Quiz #7**\n",
        "mode(x) 함수는 전달 받은 리스트(x)의 원소들 중, \n",
        "최빈값(가장 많이 사용된 값)을 찾아 반환하는 함수이다. \n",
        "mode(x) 함수를 정의하시오."
      ],
      "metadata": {
        "id": "n1PE9FkTUcwh"
      }
    },
    {
      "cell_type": "code",
      "source": [
        "def mode(x):\n",
        "  \n",
        "  # 중복값 제거\n",
        "  y = list(set(x))\n",
        "  count= []\n",
        "\n",
        "  for i in range(len(y)):\n",
        "    count.append(x.count(y[i]))\n",
        "  \n",
        "  return y[count.index(max(count))]\n",
        " \n",
        "print(mode([0, 1, 2, 2, 2]))"
      ],
      "metadata": {
        "colab": {
          "base_uri": "https://localhost:8080/"
        },
        "id": "lzmSNKEgYwfv",
        "outputId": "54f3fea4-1ec2-4630-d004-0f83da188fab"
      },
      "execution_count": 98,
      "outputs": [
        {
          "output_type": "stream",
          "name": "stdout",
          "text": [
            "2\n"
          ]
        }
      ]
    },
    {
      "cell_type": "code",
      "source": [
        "# solution\n",
        "def mode2(x):\n",
        "  cnt = [x.count(0), x.count(1), x.count(2)]\n",
        "  return cnt.index(max(cnt))\n",
        "\n",
        "print(mode2([0, 1, 2, 2, 2]))"
      ],
      "metadata": {
        "colab": {
          "base_uri": "https://localhost:8080/"
        },
        "id": "Fa7URe6BeVsk",
        "outputId": "47cf8c92-c11b-416f-c6f3-766bb257c7d9"
      },
      "execution_count": 99,
      "outputs": [
        {
          "output_type": "stream",
          "name": "stdout",
          "text": [
            "2\n"
          ]
        }
      ]
    }
  ]
}