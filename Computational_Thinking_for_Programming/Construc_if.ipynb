{
  "nbformat": 4,
  "nbformat_minor": 0,
  "metadata": {
    "colab": {
      "name": "Construc_if.ipynb",
      "provenance": [],
      "collapsed_sections": [],
      "authorship_tag": "ABX9TyMiGIzE/hgAdV4LU9s6kGPq",
      "include_colab_link": true
    },
    "kernelspec": {
      "name": "python3",
      "display_name": "Python 3"
    },
    "language_info": {
      "name": "python"
    }
  },
  "cells": [
    {
      "cell_type": "markdown",
      "metadata": {
        "id": "view-in-github",
        "colab_type": "text"
      },
      "source": [
        "<a href=\"https://colab.research.google.com/github/Dkepffl/2022-1-Lecture_Note/blob/main/Computational_Thinking_for_Programming/Construc_if.ipynb\" target=\"_parent\"><img src=\"https://colab.research.google.com/assets/colab-badge.svg\" alt=\"Open In Colab\"/></a>"
      ]
    },
    {
      "cell_type": "markdown",
      "source": [
        "## **6-1. if문의 논리적 설계**\n",
        "___\n",
        "#### **1.if-elif-else**\n",
        "(실습) 정수 age를 입력 받아, 0대, 10대, 20대, 30대, 40대 이상으로 분류하는 프로그램을 설계하시오. age가 음수이거나 130보다 크면 '잘못 입력했습니다.'가 출력되도록 한다."
      ],
      "metadata": {
        "id": "Run-9sz2LwoW"
      }
    },
    {
      "cell_type": "code",
      "source": [
        "# Solution 1\n",
        "age = int(input(\"나이를 입력하시오 : \"))\n",
        "\n",
        "if age < 0 or age > 130:\n",
        "  print('잘못 입력했습니다.')\n",
        "elif age< 10:\n",
        "  print('0대 입니다.')\n",
        "elif age< 20:\n",
        "  print('10대 입니다.')\n",
        "elif age< 30:\n",
        "  print('20대 입니다.')\n",
        "elif age< 40:\n",
        "  print('30대 입니다.')\n",
        "else:\n",
        "  print('40대 이상입니다.')"
      ],
      "metadata": {
        "colab": {
          "base_uri": "https://localhost:8080/"
        },
        "id": "Z8cYSzOlPnLf",
        "outputId": "eda1f588-0b10-4079-d702-d88cfcbd2e63"
      },
      "execution_count": 25,
      "outputs": [
        {
          "output_type": "stream",
          "name": "stdout",
          "text": [
            "나이를 입력하시오 : 141\n",
            "잘못 입력했습니다.\n"
          ]
        }
      ]
    },
    {
      "cell_type": "code",
      "source": [
        "# Solution 2\n",
        "age = int(input())\n",
        "if age < 0 or age > 130:\n",
        "  print('잘못 입력했습니다.')\n",
        "else:\n",
        "  if age >= 0 and age < 10:\n",
        "    print('0대 입니다.')\n",
        "  else:\n",
        "    if age >= 10 and age < 20:\n",
        "      print('10대 입니다.')\n",
        "    else:\n",
        "      if age >= 20 and age < 30:\n",
        "        print('20대 입니다.')\n",
        "      else:\n",
        "        if age >= 30 and age < 40:\n",
        "          print('30대 입니다.')\n",
        "        else:\n",
        "          print('40대 이상입니다.')"
      ],
      "metadata": {
        "colab": {
          "base_uri": "https://localhost:8080/"
        },
        "id": "TYGoNcTQROmI",
        "outputId": "9df01f2c-5e7a-4321-8415-f0aadc038cfe"
      },
      "execution_count": 27,
      "outputs": [
        {
          "output_type": "stream",
          "name": "stdout",
          "text": [
            "45\n",
            "40대 이상입니다.\n"
          ]
        }
      ]
    },
    {
      "cell_type": "markdown",
      "source": [
        "## **6-2. if문의 다중 조건**\n",
        "___\n",
        "#### **1.단일 조건**\n",
        "```python\n",
        "if conditions(True/False):\n",
        "  actions\n",
        "```"
      ],
      "metadata": {
        "id": "17CBVC-eMgly"
      }
    },
    {
      "cell_type": "code",
      "source": [
        "if True:\n",
        "  print(1) \n",
        "else:\n",
        "  print(2) \n",
        "\n",
        "# 1 츨력"
      ],
      "metadata": {
        "colab": {
          "base_uri": "https://localhost:8080/"
        },
        "id": "PlpWox41S8vv",
        "outputId": "754ace97-f44d-4692-a507-c30ae18c2a76"
      },
      "execution_count": 33,
      "outputs": [
        {
          "output_type": "stream",
          "name": "stdout",
          "text": [
            "1\n"
          ]
        }
      ]
    },
    {
      "cell_type": "code",
      "source": [
        "if False:\n",
        "  print(1)\n",
        "else:\n",
        "  print(2)\n",
        "\n",
        "# 2 츨력"
      ],
      "metadata": {
        "colab": {
          "base_uri": "https://localhost:8080/"
        },
        "id": "OSSE06VlS_X-",
        "outputId": "40628120-1761-4007-ee2a-ce1e0f9160dc"
      },
      "execution_count": 32,
      "outputs": [
        {
          "output_type": "stream",
          "name": "stdout",
          "text": [
            "2\n"
          ]
        }
      ]
    },
    {
      "cell_type": "markdown",
      "source": [
        "#### **2. 다중 조건**"
      ],
      "metadata": {
        "id": "PxfqiQI2MnAo"
      }
    },
    {
      "cell_type": "code",
      "source": [
        "# and\n",
        "print(False and False)\n",
        "print(False and True)\n",
        "print(True and False)\n",
        "print(True and True)"
      ],
      "metadata": {
        "colab": {
          "base_uri": "https://localhost:8080/"
        },
        "id": "5xz850DlRu1-",
        "outputId": "5652eb2b-d306-45f9-d1d4-51146f788e31"
      },
      "execution_count": 28,
      "outputs": [
        {
          "output_type": "stream",
          "name": "stdout",
          "text": [
            "False\n",
            "False\n",
            "False\n",
            "True\n"
          ]
        }
      ]
    },
    {
      "cell_type": "code",
      "source": [
        "# or\n",
        "print(False or False)\n",
        "print(False or True)\n",
        "print(True or False)\n",
        "print(True or True)"
      ],
      "metadata": {
        "colab": {
          "base_uri": "https://localhost:8080/"
        },
        "id": "80dljN1ZSDXU",
        "outputId": "c620c7bf-6354-4882-c731-ea86dfe61f65"
      },
      "execution_count": 29,
      "outputs": [
        {
          "output_type": "stream",
          "name": "stdout",
          "text": [
            "False\n",
            "True\n",
            "True\n",
            "True\n"
          ]
        }
      ]
    },
    {
      "cell_type": "code",
      "source": [
        "# if문과 and, or\n",
        "if True and False: # False\n",
        "  print(1)\n",
        "if True or False: # True\n",
        "  print(2)\n",
        "if True and False or True: # True\n",
        "  print(3)\n",
        "if True and True or False: # True\n",
        "  print(4)\n",
        "if False or True and False: # False\n",
        "  print(5)"
      ],
      "metadata": {
        "colab": {
          "base_uri": "https://localhost:8080/"
        },
        "id": "NvrFPLtlSNs3",
        "outputId": "39e74be0-dd83-4b97-e976-82d1ae9f42ae"
      },
      "execution_count": 31,
      "outputs": [
        {
          "output_type": "stream",
          "name": "stdout",
          "text": [
            "2\n",
            "3\n",
            "4\n"
          ]
        }
      ]
    },
    {
      "cell_type": "markdown",
      "source": [
        "#### **3. 퀴즈**"
      ],
      "metadata": {
        "id": "J58Hujb0Mo2N"
      }
    },
    {
      "cell_type": "markdown",
      "source": [
        "##### 1. 정수 반올림\n",
        "___\n",
        "- 사용자에게 0 이상의 정수를 입력받아, 1의 자리에서 반올림한 결과를 출력하는 프로그램을 작성하시오.\n",
        "  - 사용자에게 정수 n을 입력받는다.\n",
        "  - 사용자가 입력한 값이 음수라면, '잘못 입력했습니다.'가 출력되도록한다.\n",
        "  - 사용자가 0 이상의 정수를 입력했다면, 1의 자리에서 반올림한 결과를 출력한다.\n",
        "- 예시 1) 123 입력 시, 120 출력\n",
        "- 예시 2) 127 입력 시, 130 출력 "
      ],
      "metadata": {
        "id": "_dJye1IgM6P2"
      }
    },
    {
      "cell_type": "code",
      "source": [
        "# My answer\n",
        "n = int(input())\n",
        "\n",
        "if n < 0:\n",
        "  print('잘못 입력했습니다.')\n",
        "else:\n",
        "  x = n % 10\n",
        "  if x == 0:\n",
        "    print(n)\n",
        "  elif 0 < x <= 4:\n",
        "    print(n - x)\n",
        "  else:\n",
        "    print(n + (10 - x)) "
      ],
      "metadata": {
        "colab": {
          "base_uri": "https://localhost:8080/"
        },
        "id": "jsZIdx_cQvFQ",
        "outputId": "c6f55f4b-5acf-4fcb-d81e-882bcda95fb9"
      },
      "execution_count": 41,
      "outputs": [
        {
          "output_type": "stream",
          "name": "stdout",
          "text": [
            "124\n",
            "120\n"
          ]
        }
      ]
    },
    {
      "cell_type": "markdown",
      "source": [
        "##### 2. 실수 반올림\n",
        "___\n",
        "- 사용자에게 0 이상의 실수를 입력받아, 소수점 아래에서 반올림한 결과를 출력하는 프로그램을 작성하시오.\n",
        "  - 사용자에게 실수 n을 입력받는다.\n",
        "  - 사용자가 입력한 값이 음수라면, '잘못 입력했습니다.'가 출력되도록한다.\n",
        "  - 사용자가 0 이상의 실수를 입력했다면, 소수점 아래에서 반올림한 결과를 출력한다.\n",
        "- 예시 1) 12.3 입력 시, 12 출력\n",
        "- 예시 2) 12.7 입력 시, 13 출력 "
      ],
      "metadata": {
        "id": "RKUs_DOtNn-S"
      }
    },
    {
      "cell_type": "code",
      "source": [
        "# My answer\n",
        "n = float(input())\n",
        "\n",
        "if n < 0:\n",
        "  print('잘못 입력했습니다.')\n",
        "else:\n",
        "  x = n % 1\n",
        "  if x*10 == 0:\n",
        "    print(n - x)\n",
        "  elif 0 < x*10 <= 4:\n",
        "    print(n - x)\n",
        "  else:\n",
        "    print(n + (1 - x)) "
      ],
      "metadata": {
        "colab": {
          "base_uri": "https://localhost:8080/"
        },
        "id": "jkxqvzx0Na7t",
        "outputId": "1f336f90-fc07-4921-d8f1-b2c621684e80"
      },
      "execution_count": 45,
      "outputs": [
        {
          "output_type": "stream",
          "name": "stdout",
          "text": [
            "12.7\n",
            "13.0\n"
          ]
        }
      ]
    },
    {
      "cell_type": "markdown",
      "source": [
        "## **6-3. if문 퀴즈 문제 풀이**\n",
        "___\n",
        "#### **1.정수 반올림**"
      ],
      "metadata": {
        "id": "c_IjjnHQMg_W"
      }
    },
    {
      "cell_type": "code",
      "source": [
        "# Solution 1\n",
        "n = int(input())\n",
        "\n",
        "if n < 0:\n",
        "  print('잘못 입력했습니다.')\n",
        "else:\n",
        "  x = n % 10\n",
        "  if x == 0:\n",
        "    print(n)\n",
        "  elif x == 1:\n",
        "    print(n-1)\n",
        "  elif x == 2:\n",
        "    print(n-2)\n",
        "  elif x == 3:\n",
        "    print(n-3)\n",
        "  elif x == 4:\n",
        "    print(n-4)\n",
        "  elif x == 5:\n",
        "    print(n+5)\n",
        "  elif x == 6:\n",
        "    print(n+4)\n",
        "  elif x == 7:\n",
        "    print(n+3)\n",
        "  elif x == 8:\n",
        "    print(n+2)\n",
        "  elif x == 9:\n",
        "    print(n+1)"
      ],
      "metadata": {
        "colab": {
          "base_uri": "https://localhost:8080/"
        },
        "id": "lKy9BeYqaWTO",
        "outputId": "81bd6401-b82a-4e27-813c-398430034e78"
      },
      "execution_count": 40,
      "outputs": [
        {
          "output_type": "stream",
          "name": "stdout",
          "text": [
            "127\n",
            "130\n"
          ]
        }
      ]
    },
    {
      "cell_type": "code",
      "source": [
        "# Solution 2\n",
        "n = int(input())\n",
        "\n",
        "if n < 0:\n",
        "  print('잘못 입력했습니다.')\n",
        "else:\n",
        "  x = n % 10\n",
        "  if x < 5:\n",
        "    print(n -x)\n",
        "  else:\n",
        "    print(n + (10 - x))"
      ],
      "metadata": {
        "colab": {
          "base_uri": "https://localhost:8080/"
        },
        "id": "45wBxzZUavnu",
        "outputId": "5ba0d184-6048-49ce-dbf0-4d7cd0880938"
      },
      "execution_count": 42,
      "outputs": [
        {
          "output_type": "stream",
          "name": "stdout",
          "text": [
            "158\n",
            "160\n"
          ]
        }
      ]
    },
    {
      "cell_type": "markdown",
      "source": [
        "#### **2. 실습 반올림**"
      ],
      "metadata": {
        "id": "y-u8DJAcMw24"
      }
    },
    {
      "cell_type": "code",
      "source": [
        "# Solution 1\n",
        "# 입력\n",
        "n = float(input())\n",
        "\n",
        "# 소수점 부분\n",
        "x = n - int(n)\n",
        "\n",
        "if n < 0:\n",
        "  print('잘못 입력했습니다.')\n",
        "else:\n",
        "  if 0 < x < 0.5:\n",
        "    print(int(n))\n",
        "  else:\n",
        "    print(int(n+1))"
      ],
      "metadata": {
        "colab": {
          "base_uri": "https://localhost:8080/"
        },
        "id": "2071moONcTo5",
        "outputId": "55eb54a9-78dc-4a58-daaa-8d981e951b09"
      },
      "execution_count": 47,
      "outputs": [
        {
          "output_type": "stream",
          "name": "stdout",
          "text": [
            "12.7\n",
            "13\n"
          ]
        }
      ]
    },
    {
      "cell_type": "code",
      "source": [
        "# Solution 2\n",
        "n = float(input())\n",
        "print(int(n + 0.5))"
      ],
      "metadata": {
        "colab": {
          "base_uri": "https://localhost:8080/"
        },
        "id": "7_xyZNoqdCQu",
        "outputId": "75e29d5c-ca58-48aa-90b8-7cc9ca001f68"
      },
      "execution_count": 49,
      "outputs": [
        {
          "output_type": "stream",
          "name": "stdout",
          "text": [
            "23.4\n",
            "23\n"
          ]
        }
      ]
    }
  ]
}