{
  "nbformat": 4,
  "nbformat_minor": 0,
  "metadata": {
    "colab": {
      "name": "Assignment_1.ipynb",
      "provenance": [],
      "authorship_tag": "ABX9TyPmtTzuoKMaju5BzYd/HfVq",
      "include_colab_link": true
    },
    "kernelspec": {
      "name": "python3",
      "display_name": "Python 3"
    },
    "language_info": {
      "name": "python"
    }
  },
  "cells": [
    {
      "cell_type": "markdown",
      "metadata": {
        "id": "view-in-github",
        "colab_type": "text"
      },
      "source": [
        "<a href=\"https://colab.research.google.com/github/Dkepffl/2022-1-Lecture_Note/blob/main/Statistical_Methods_for_Big_Data_Analysis/Assignment/Assignment_1.ipynb\" target=\"_parent\"><img src=\"https://colab.research.google.com/assets/colab-badge.svg\" alt=\"Open In Colab\"/></a>"
      ]
    },
    {
      "cell_type": "code",
      "source": [
        "import numpy as np\n",
        "import pandas as pd"
      ],
      "metadata": {
        "id": "bPfMTeTgwEAT"
      },
      "execution_count": 2,
      "outputs": []
    },
    {
      "cell_type": "markdown",
      "source": [
        "### Problem 1. 정수를 입력받은 후 1부터 입력받은 정수까지 짝수들의 합을 구하는 코드를 작성하고. 결과를 출력하시오.\n",
        "- 입력값으로 27을 넣은 후 결과값을 첨부할 것.\n",
        "- for문과 if문을 이용할 것"
      ],
      "metadata": {
        "id": "IV3GbO6mqypt"
      }
    },
    {
      "cell_type": "code",
      "source": [
        "num = int(input(\"정수를 입력하시오 : \"))\n",
        "sum = 0\n",
        "\n",
        "for i in range(num+1):\n",
        "  if i % 2 == 0:\n",
        "    sum += i\n",
        "\n",
        "print(sum)"
      ],
      "metadata": {
        "colab": {
          "base_uri": "https://localhost:8080/"
        },
        "id": "ij63xsWWvgrV",
        "outputId": "38258723-eb61-41e4-db82-c8641467a85d"
      },
      "execution_count": 1,
      "outputs": [
        {
          "output_type": "stream",
          "name": "stdout",
          "text": [
            "정수를 입력하시오 : 27\n",
            "182\n"
          ]
        }
      ]
    },
    {
      "cell_type": "markdown",
      "source": [
        "### Problem 2. (a) ~ (e) 문제에 답하시오"
      ],
      "metadata": {
        "id": "MvzFObI7q66-"
      }
    },
    {
      "cell_type": "markdown",
      "source": [
        "(a) 1부터 20까지 10개의 정수(난수)를 생성하시오. (random seed : 1886)\n",
        "(Hint : array를 list로 바꾸는 code는 list_name.tolist() 이다. )"
      ],
      "metadata": {
        "id": "RKTU4Rhfq-4L"
      }
    },
    {
      "cell_type": "code",
      "source": [
        "np.random.seed(1886)\n",
        "randarr = np.random.randint(1,21, size = 10)\n",
        "list_a = randarr.tolist()\n",
        "print(list_a )"
      ],
      "metadata": {
        "colab": {
          "base_uri": "https://localhost:8080/"
        },
        "id": "r1HLZSl4wB6A",
        "outputId": "ffbe444a-f2b9-48d9-b8a9-c2964200c136"
      },
      "execution_count": 10,
      "outputs": [
        {
          "output_type": "stream",
          "name": "stdout",
          "text": [
            "[7, 14, 20, 2, 10, 5, 5, 4, 11, 4]\n"
          ]
        }
      ]
    },
    {
      "cell_type": "markdown",
      "source": [
        "(b) (a)의 list(혹은 array)에서 첫번째부터 다섯번째까지의 원소를 출력하시오."
      ],
      "metadata": {
        "id": "tr6XG2xVrEAT"
      }
    },
    {
      "cell_type": "code",
      "source": [
        "print(list_a[0:5])"
      ],
      "metadata": {
        "colab": {
          "base_uri": "https://localhost:8080/"
        },
        "id": "wINHe174w7kT",
        "outputId": "b1a84af7-e220-4c85-fb8d-a0bb4a8f278f"
      },
      "execution_count": 11,
      "outputs": [
        {
          "output_type": "stream",
          "name": "stdout",
          "text": [
            "[7, 14, 20, 2, 10]\n"
          ]
        }
      ]
    },
    {
      "cell_type": "markdown",
      "source": [
        "(c) 다음 결과를 출력하도록 하는 Indexing code를 작성하시오.\n",
        "```python\n",
        "Out[2] : [14,10, 5]\n",
        "```"
      ],
      "metadata": {
        "id": "uhKSjmCKrHID"
      }
    },
    {
      "cell_type": "code",
      "source": [
        "list_c = randarr[[1,4,5]].tolist()\n",
        "print(list_c)"
      ],
      "metadata": {
        "colab": {
          "base_uri": "https://localhost:8080/"
        },
        "id": "xXNqQnlMxDxc",
        "outputId": "2f9443df-959b-46e4-e84c-12f21093b396"
      },
      "execution_count": 52,
      "outputs": [
        {
          "output_type": "stream",
          "name": "stdout",
          "text": [
            "[14, 10, 5]\n"
          ]
        }
      ]
    },
    {
      "cell_type": "markdown",
      "source": [
        "(d) 다음 결과를 출력하도록 하는 Indexing code를 작성하시오.\n",
        "```python\n",
        "Out[3] : [5, 5, 10, 2, 14, 7]\n",
        "\n",
        "```"
      ],
      "metadata": {
        "id": "XX9T6syXrQ4D"
      }
    },
    {
      "cell_type": "code",
      "source": [
        "list_d = randarr[::-1]\n",
        "list_d = list_d[[3,4,5,6,8,9]].tolist()\n",
        "print(list_d)"
      ],
      "metadata": {
        "colab": {
          "base_uri": "https://localhost:8080/"
        },
        "id": "ggFVAU-NyiqL",
        "outputId": "c66d80d8-ae5d-4b49-f7e8-e84ff07ad271"
      },
      "execution_count": 78,
      "outputs": [
        {
          "output_type": "stream",
          "name": "stdout",
          "text": [
            "[5, 5, 10, 2, 14, 7]\n"
          ]
        }
      ]
    },
    {
      "cell_type": "markdown",
      "source": [
        "(e) 다음 결과를 출력하도록 하는 Indexing code를 작성하시오\n",
        "```python\n",
        "Out[3] : [7, 4]\n",
        "```"
      ],
      "metadata": {
        "id": "XGaSNirftHc7"
      }
    },
    {
      "cell_type": "code",
      "source": [
        "list_e = randarr[[0,-1]].tolist()\n",
        "print(list_e)"
      ],
      "metadata": {
        "colab": {
          "base_uri": "https://localhost:8080/"
        },
        "id": "fK2jwJ0T3lnC",
        "outputId": "dc6ff18b-9af0-425d-fa93-d755a392316d"
      },
      "execution_count": 63,
      "outputs": [
        {
          "output_type": "stream",
          "name": "stdout",
          "text": [
            "[7, 4]\n"
          ]
        }
      ]
    },
    {
      "cell_type": "markdown",
      "source": [
        "### Problem 3. (a) ~ (f) 문제에 답하시오"
      ],
      "metadata": {
        "id": "1yDyUXERtQhS"
      }
    },
    {
      "cell_type": "markdown",
      "source": [
        "(a) 1 부터 20 사이의 정수에서 난수를 생성하여 데이터 프레임을 만드시오. (random seed : 22)\n",
        "- size = (5,6) 으로 지정\n",
        "- colname = [‘col1’, ‘col2’, …, ‘col6’] 으로 지정\n",
        "- index = [‘row1’, ‘row2’, …, ‘row5’] 으로 지정"
      ],
      "metadata": {
        "id": "0zcNFOTmtSpv"
      }
    },
    {
      "cell_type": "code",
      "source": [
        "np.random.seed(22)\n",
        "arr1 = np.random.randint(1,21, size = 30)\n",
        "arr1 = arr1.reshape(5,6)\n",
        "df_1 = pd.DataFrame(arr1, columns = ['col1', 'col2','col3','col4','col5','col6'], index = ['row1', 'row2', 'row3', 'row4', 'row5'])\n",
        "df_1"
      ],
      "metadata": {
        "colab": {
          "base_uri": "https://localhost:8080/",
          "height": 206
        },
        "id": "NZE3sPqd7lEi",
        "outputId": "57d1f6f3-183b-4197-a444-a6639b95927a"
      },
      "execution_count": 83,
      "outputs": [
        {
          "output_type": "execute_result",
          "data": {
            "text/plain": [
              "      col1  col2  col3  col4  col5  col6\n",
              "row1     5    13     1     5     7    12\n",
              "row2     9     5    19    15    14     8\n",
              "row3     3    10     9     9     6    16\n",
              "row4     3    19    18     7    20    20\n",
              "row5     3     8     8    15    11    10"
            ],
            "text/html": [
              "\n",
              "  <div id=\"df-9c6f4fd2-5613-4c50-8f42-75714baab38e\">\n",
              "    <div class=\"colab-df-container\">\n",
              "      <div>\n",
              "<style scoped>\n",
              "    .dataframe tbody tr th:only-of-type {\n",
              "        vertical-align: middle;\n",
              "    }\n",
              "\n",
              "    .dataframe tbody tr th {\n",
              "        vertical-align: top;\n",
              "    }\n",
              "\n",
              "    .dataframe thead th {\n",
              "        text-align: right;\n",
              "    }\n",
              "</style>\n",
              "<table border=\"1\" class=\"dataframe\">\n",
              "  <thead>\n",
              "    <tr style=\"text-align: right;\">\n",
              "      <th></th>\n",
              "      <th>col1</th>\n",
              "      <th>col2</th>\n",
              "      <th>col3</th>\n",
              "      <th>col4</th>\n",
              "      <th>col5</th>\n",
              "      <th>col6</th>\n",
              "    </tr>\n",
              "  </thead>\n",
              "  <tbody>\n",
              "    <tr>\n",
              "      <th>row1</th>\n",
              "      <td>5</td>\n",
              "      <td>13</td>\n",
              "      <td>1</td>\n",
              "      <td>5</td>\n",
              "      <td>7</td>\n",
              "      <td>12</td>\n",
              "    </tr>\n",
              "    <tr>\n",
              "      <th>row2</th>\n",
              "      <td>9</td>\n",
              "      <td>5</td>\n",
              "      <td>19</td>\n",
              "      <td>15</td>\n",
              "      <td>14</td>\n",
              "      <td>8</td>\n",
              "    </tr>\n",
              "    <tr>\n",
              "      <th>row3</th>\n",
              "      <td>3</td>\n",
              "      <td>10</td>\n",
              "      <td>9</td>\n",
              "      <td>9</td>\n",
              "      <td>6</td>\n",
              "      <td>16</td>\n",
              "    </tr>\n",
              "    <tr>\n",
              "      <th>row4</th>\n",
              "      <td>3</td>\n",
              "      <td>19</td>\n",
              "      <td>18</td>\n",
              "      <td>7</td>\n",
              "      <td>20</td>\n",
              "      <td>20</td>\n",
              "    </tr>\n",
              "    <tr>\n",
              "      <th>row5</th>\n",
              "      <td>3</td>\n",
              "      <td>8</td>\n",
              "      <td>8</td>\n",
              "      <td>15</td>\n",
              "      <td>11</td>\n",
              "      <td>10</td>\n",
              "    </tr>\n",
              "  </tbody>\n",
              "</table>\n",
              "</div>\n",
              "      <button class=\"colab-df-convert\" onclick=\"convertToInteractive('df-9c6f4fd2-5613-4c50-8f42-75714baab38e')\"\n",
              "              title=\"Convert this dataframe to an interactive table.\"\n",
              "              style=\"display:none;\">\n",
              "        \n",
              "  <svg xmlns=\"http://www.w3.org/2000/svg\" height=\"24px\"viewBox=\"0 0 24 24\"\n",
              "       width=\"24px\">\n",
              "    <path d=\"M0 0h24v24H0V0z\" fill=\"none\"/>\n",
              "    <path d=\"M18.56 5.44l.94 2.06.94-2.06 2.06-.94-2.06-.94-.94-2.06-.94 2.06-2.06.94zm-11 1L8.5 8.5l.94-2.06 2.06-.94-2.06-.94L8.5 2.5l-.94 2.06-2.06.94zm10 10l.94 2.06.94-2.06 2.06-.94-2.06-.94-.94-2.06-.94 2.06-2.06.94z\"/><path d=\"M17.41 7.96l-1.37-1.37c-.4-.4-.92-.59-1.43-.59-.52 0-1.04.2-1.43.59L10.3 9.45l-7.72 7.72c-.78.78-.78 2.05 0 2.83L4 21.41c.39.39.9.59 1.41.59.51 0 1.02-.2 1.41-.59l7.78-7.78 2.81-2.81c.8-.78.8-2.07 0-2.86zM5.41 20L4 18.59l7.72-7.72 1.47 1.35L5.41 20z\"/>\n",
              "  </svg>\n",
              "      </button>\n",
              "      \n",
              "  <style>\n",
              "    .colab-df-container {\n",
              "      display:flex;\n",
              "      flex-wrap:wrap;\n",
              "      gap: 12px;\n",
              "    }\n",
              "\n",
              "    .colab-df-convert {\n",
              "      background-color: #E8F0FE;\n",
              "      border: none;\n",
              "      border-radius: 50%;\n",
              "      cursor: pointer;\n",
              "      display: none;\n",
              "      fill: #1967D2;\n",
              "      height: 32px;\n",
              "      padding: 0 0 0 0;\n",
              "      width: 32px;\n",
              "    }\n",
              "\n",
              "    .colab-df-convert:hover {\n",
              "      background-color: #E2EBFA;\n",
              "      box-shadow: 0px 1px 2px rgba(60, 64, 67, 0.3), 0px 1px 3px 1px rgba(60, 64, 67, 0.15);\n",
              "      fill: #174EA6;\n",
              "    }\n",
              "\n",
              "    [theme=dark] .colab-df-convert {\n",
              "      background-color: #3B4455;\n",
              "      fill: #D2E3FC;\n",
              "    }\n",
              "\n",
              "    [theme=dark] .colab-df-convert:hover {\n",
              "      background-color: #434B5C;\n",
              "      box-shadow: 0px 1px 3px 1px rgba(0, 0, 0, 0.15);\n",
              "      filter: drop-shadow(0px 1px 2px rgba(0, 0, 0, 0.3));\n",
              "      fill: #FFFFFF;\n",
              "    }\n",
              "  </style>\n",
              "\n",
              "      <script>\n",
              "        const buttonEl =\n",
              "          document.querySelector('#df-9c6f4fd2-5613-4c50-8f42-75714baab38e button.colab-df-convert');\n",
              "        buttonEl.style.display =\n",
              "          google.colab.kernel.accessAllowed ? 'block' : 'none';\n",
              "\n",
              "        async function convertToInteractive(key) {\n",
              "          const element = document.querySelector('#df-9c6f4fd2-5613-4c50-8f42-75714baab38e');\n",
              "          const dataTable =\n",
              "            await google.colab.kernel.invokeFunction('convertToInteractive',\n",
              "                                                     [key], {});\n",
              "          if (!dataTable) return;\n",
              "\n",
              "          const docLinkHtml = 'Like what you see? Visit the ' +\n",
              "            '<a target=\"_blank\" href=https://colab.research.google.com/notebooks/data_table.ipynb>data table notebook</a>'\n",
              "            + ' to learn more about interactive tables.';\n",
              "          element.innerHTML = '';\n",
              "          dataTable['output_type'] = 'display_data';\n",
              "          await google.colab.output.renderOutput(dataTable, element);\n",
              "          const docLink = document.createElement('div');\n",
              "          docLink.innerHTML = docLinkHtml;\n",
              "          element.appendChild(docLink);\n",
              "        }\n",
              "      </script>\n",
              "    </div>\n",
              "  </div>\n",
              "  "
            ]
          },
          "metadata": {},
          "execution_count": 83
        }
      ]
    },
    {
      "cell_type": "markdown",
      "source": [
        "(b) (a)에서 만든 데이터 프레임에서 마지막 3줄을 출력하시오"
      ],
      "metadata": {
        "id": "mxdKvUHYtVx8"
      }
    },
    {
      "cell_type": "code",
      "source": [
        "print(df_1.tail(3))"
      ],
      "metadata": {
        "colab": {
          "base_uri": "https://localhost:8080/"
        },
        "id": "hbaKUTHD8wC4",
        "outputId": "0df4f7f0-9e34-4b88-bda6-1757979412a4"
      },
      "execution_count": 85,
      "outputs": [
        {
          "output_type": "stream",
          "name": "stdout",
          "text": [
            "      col1  col2  col3  col4  col5  col6\n",
            "row3     3    10     9     9     6    16\n",
            "row4     3    19    18     7    20    20\n",
            "row5     3     8     8    15    11    10\n"
          ]
        }
      ]
    },
    {
      "cell_type": "markdown",
      "source": [
        "(c) row2와 row3만을 출력하시오"
      ],
      "metadata": {
        "id": "5sRqEHeptX4b"
      }
    },
    {
      "cell_type": "code",
      "source": [
        "print(df_1.loc[['row2', 'row3']])"
      ],
      "metadata": {
        "colab": {
          "base_uri": "https://localhost:8080/"
        },
        "id": "I35kYDM_80UZ",
        "outputId": "f3f1bf45-7582-42ea-be40-d20e45806a37"
      },
      "execution_count": 88,
      "outputs": [
        {
          "output_type": "stream",
          "name": "stdout",
          "text": [
            "      col1  col2  col3  col4  col5  col6\n",
            "row2     9     5    19    15    14     8\n",
            "row3     3    10     9     9     6    16\n"
          ]
        }
      ]
    },
    {
      "cell_type": "markdown",
      "source": [
        "(d) col4와 col5를 출력하시오\n",
        "\n"
      ],
      "metadata": {
        "id": "3IKQjuIvtZ5k"
      }
    },
    {
      "cell_type": "markdown",
      "source": [
        "(e) row3 그리고 col6에 해당하는 데이터를 추출하시오"
      ],
      "metadata": {
        "id": "umyMocH0tbZr"
      }
    },
    {
      "cell_type": "code",
      "source": [
        "print(df_1.loc['row3','col6'])"
      ],
      "metadata": {
        "colab": {
          "base_uri": "https://localhost:8080/"
        },
        "id": "Lu0YWtZp9cX4",
        "outputId": "54755926-0805-45b1-dcf6-c2fe4c90cea3"
      },
      "execution_count": 93,
      "outputs": [
        {
          "output_type": "stream",
          "name": "stdout",
          "text": [
            "16\n"
          ]
        }
      ]
    },
    {
      "cell_type": "markdown",
      "source": [
        "(f) col1의 데이터가 5보다 큰 데이터 중에서 col2와 col3만을 추출하시오"
      ],
      "metadata": {
        "id": "QmPHSRk5tcvD"
      }
    },
    {
      "cell_type": "code",
      "source": [
        "print(df_1.loc[df_1['col1']>5,['col2','col3']])"
      ],
      "metadata": {
        "colab": {
          "base_uri": "https://localhost:8080/",
          "height": 81
        },
        "id": "QyBsqbV89hyn",
        "outputId": "94f9818a-bce0-4cc4-fa86-2a2584984870"
      },
      "execution_count": 101,
      "outputs": [
        {
          "output_type": "execute_result",
          "data": {
            "text/plain": [
              "      col2  col3\n",
              "row2     5    19"
            ],
            "text/html": [
              "\n",
              "  <div id=\"df-5b8b90bf-ea0d-4efe-953e-05e007186225\">\n",
              "    <div class=\"colab-df-container\">\n",
              "      <div>\n",
              "<style scoped>\n",
              "    .dataframe tbody tr th:only-of-type {\n",
              "        vertical-align: middle;\n",
              "    }\n",
              "\n",
              "    .dataframe tbody tr th {\n",
              "        vertical-align: top;\n",
              "    }\n",
              "\n",
              "    .dataframe thead th {\n",
              "        text-align: right;\n",
              "    }\n",
              "</style>\n",
              "<table border=\"1\" class=\"dataframe\">\n",
              "  <thead>\n",
              "    <tr style=\"text-align: right;\">\n",
              "      <th></th>\n",
              "      <th>col2</th>\n",
              "      <th>col3</th>\n",
              "    </tr>\n",
              "  </thead>\n",
              "  <tbody>\n",
              "    <tr>\n",
              "      <th>row2</th>\n",
              "      <td>5</td>\n",
              "      <td>19</td>\n",
              "    </tr>\n",
              "  </tbody>\n",
              "</table>\n",
              "</div>\n",
              "      <button class=\"colab-df-convert\" onclick=\"convertToInteractive('df-5b8b90bf-ea0d-4efe-953e-05e007186225')\"\n",
              "              title=\"Convert this dataframe to an interactive table.\"\n",
              "              style=\"display:none;\">\n",
              "        \n",
              "  <svg xmlns=\"http://www.w3.org/2000/svg\" height=\"24px\"viewBox=\"0 0 24 24\"\n",
              "       width=\"24px\">\n",
              "    <path d=\"M0 0h24v24H0V0z\" fill=\"none\"/>\n",
              "    <path d=\"M18.56 5.44l.94 2.06.94-2.06 2.06-.94-2.06-.94-.94-2.06-.94 2.06-2.06.94zm-11 1L8.5 8.5l.94-2.06 2.06-.94-2.06-.94L8.5 2.5l-.94 2.06-2.06.94zm10 10l.94 2.06.94-2.06 2.06-.94-2.06-.94-.94-2.06-.94 2.06-2.06.94z\"/><path d=\"M17.41 7.96l-1.37-1.37c-.4-.4-.92-.59-1.43-.59-.52 0-1.04.2-1.43.59L10.3 9.45l-7.72 7.72c-.78.78-.78 2.05 0 2.83L4 21.41c.39.39.9.59 1.41.59.51 0 1.02-.2 1.41-.59l7.78-7.78 2.81-2.81c.8-.78.8-2.07 0-2.86zM5.41 20L4 18.59l7.72-7.72 1.47 1.35L5.41 20z\"/>\n",
              "  </svg>\n",
              "      </button>\n",
              "      \n",
              "  <style>\n",
              "    .colab-df-container {\n",
              "      display:flex;\n",
              "      flex-wrap:wrap;\n",
              "      gap: 12px;\n",
              "    }\n",
              "\n",
              "    .colab-df-convert {\n",
              "      background-color: #E8F0FE;\n",
              "      border: none;\n",
              "      border-radius: 50%;\n",
              "      cursor: pointer;\n",
              "      display: none;\n",
              "      fill: #1967D2;\n",
              "      height: 32px;\n",
              "      padding: 0 0 0 0;\n",
              "      width: 32px;\n",
              "    }\n",
              "\n",
              "    .colab-df-convert:hover {\n",
              "      background-color: #E2EBFA;\n",
              "      box-shadow: 0px 1px 2px rgba(60, 64, 67, 0.3), 0px 1px 3px 1px rgba(60, 64, 67, 0.15);\n",
              "      fill: #174EA6;\n",
              "    }\n",
              "\n",
              "    [theme=dark] .colab-df-convert {\n",
              "      background-color: #3B4455;\n",
              "      fill: #D2E3FC;\n",
              "    }\n",
              "\n",
              "    [theme=dark] .colab-df-convert:hover {\n",
              "      background-color: #434B5C;\n",
              "      box-shadow: 0px 1px 3px 1px rgba(0, 0, 0, 0.15);\n",
              "      filter: drop-shadow(0px 1px 2px rgba(0, 0, 0, 0.3));\n",
              "      fill: #FFFFFF;\n",
              "    }\n",
              "  </style>\n",
              "\n",
              "      <script>\n",
              "        const buttonEl =\n",
              "          document.querySelector('#df-5b8b90bf-ea0d-4efe-953e-05e007186225 button.colab-df-convert');\n",
              "        buttonEl.style.display =\n",
              "          google.colab.kernel.accessAllowed ? 'block' : 'none';\n",
              "\n",
              "        async function convertToInteractive(key) {\n",
              "          const element = document.querySelector('#df-5b8b90bf-ea0d-4efe-953e-05e007186225');\n",
              "          const dataTable =\n",
              "            await google.colab.kernel.invokeFunction('convertToInteractive',\n",
              "                                                     [key], {});\n",
              "          if (!dataTable) return;\n",
              "\n",
              "          const docLinkHtml = 'Like what you see? Visit the ' +\n",
              "            '<a target=\"_blank\" href=https://colab.research.google.com/notebooks/data_table.ipynb>data table notebook</a>'\n",
              "            + ' to learn more about interactive tables.';\n",
              "          element.innerHTML = '';\n",
              "          dataTable['output_type'] = 'display_data';\n",
              "          await google.colab.output.renderOutput(dataTable, element);\n",
              "          const docLink = document.createElement('div');\n",
              "          docLink.innerHTML = docLinkHtml;\n",
              "          element.appendChild(docLink);\n",
              "        }\n",
              "      </script>\n",
              "    </div>\n",
              "  </div>\n",
              "  "
            ]
          },
          "metadata": {},
          "execution_count": 101
        }
      ]
    },
    {
      "cell_type": "markdown",
      "source": [
        "### Problem 4. (a) ~ (c) 문제에 답하시오"
      ],
      "metadata": {
        "id": "mYsXt8edtepC"
      }
    },
    {
      "cell_type": "markdown",
      "source": [
        "(a) 다음 인터넷 주소에서 데이터를 불러오시오.\n",
        "- 데이터 주소 : https://raw.githubusercontent.com/agconti/kaggle-titanic/master/data/train.csv"
      ],
      "metadata": {
        "id": "uXhf2FSGtgMG"
      }
    },
    {
      "cell_type": "markdown",
      "source": [
        "(b) Survived가 0인 데이터를 추출한 후 처음 4줄만 출력하시오."
      ],
      "metadata": {
        "id": "Zr7ytIQOtiJ1"
      }
    },
    {
      "cell_type": "markdown",
      "source": [
        "(c) Paddengerl가 5 이상이고 Pclass가 3인 데이터를 추출한 후 마지막 4줄만 출력하시오"
      ],
      "metadata": {
        "id": "SfXx6QRgtkOq"
      }
    },
    {
      "cell_type": "markdown",
      "source": [
        "### Problem 5. (a) ~ (d) 문제에 답하시오."
      ],
      "metadata": {
        "id": "X6EYribBtwZN"
      }
    },
    {
      "cell_type": "markdown",
      "source": [
        "(a) 입력된 list에서 홀수인 원소만 빼내는 함수를 만드시오.\n",
        "- 함수 이름은 ‘myodd’로 지정할 것.\n",
        "- for문과 if문을 이용할 것"
      ],
      "metadata": {
        "id": "UOQz2M8WtyPi"
      }
    },
    {
      "cell_type": "markdown",
      "source": [
        "(b) (a)에서 만든 함수를 mymodule이라는 이름의 .py로 저장하시오"
      ],
      "metadata": {
        "id": "DYrHwqLgtzvk"
      }
    },
    {
      "cell_type": "markdown",
      "source": [
        "(c) 1부터 100까지 정수 중에서 20개의 난수를 발생하여 list(혹은 array)를 만드시오. \n",
        "(random seed : 777)"
      ],
      "metadata": {
        "id": "oAqsLX5Ot0yc"
      }
    },
    {
      "cell_type": "markdown",
      "source": [
        "(d) 저장된 mymodule에서 정의된 함수를 이용해서 (c)의 list(혹은 array)에서 홀수인 원소들의\n",
        "평균을 구하는 example code를 작성하시오"
      ],
      "metadata": {
        "id": "21WtziA6t3gj"
      }
    }
  ]
}