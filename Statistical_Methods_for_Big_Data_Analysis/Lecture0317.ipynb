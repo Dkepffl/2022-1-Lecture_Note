{
  "nbformat": 4,
  "nbformat_minor": 0,
  "metadata": {
    "colab": {
      "name": "Lecture0317.ipynb",
      "provenance": [],
      "collapsed_sections": [],
      "mount_file_id": "13J3-7gXOekSGzn96qC1nbftqlGLxvmb7",
      "authorship_tag": "ABX9TyNK2oPLh9IV7sK8eowgbzf/",
      "include_colab_link": true
    },
    "kernelspec": {
      "name": "python3",
      "display_name": "Python 3"
    },
    "language_info": {
      "name": "python"
    }
  },
  "cells": [
    {
      "cell_type": "markdown",
      "metadata": {
        "id": "view-in-github",
        "colab_type": "text"
      },
      "source": [
        "<a href=\"https://colab.research.google.com/github/Dkepffl/2022-1-Lecture_Note/blob/main/Statistical_Methods_for_Big_Data_Analysis/Lecture0317.ipynb\" target=\"_parent\"><img src=\"https://colab.research.google.com/assets/colab-badge.svg\" alt=\"Open In Colab\"/></a>"
      ]
    },
    {
      "cell_type": "markdown",
      "source": [
        "## Lecture 2022/03/17"
      ],
      "metadata": {
        "id": "GpM3QBvQ7N6-"
      }
    },
    {
      "cell_type": "markdown",
      "source": [
        "#### | 함수 만들기\n",
        "- 함수의 구조1\n",
        "```python\n",
        "def your_function_name(parameters):\n",
        "  statements\n",
        "  return expression\n",
        "```"
      ],
      "metadata": {
        "id": "QoY0y1FS7me9"
      }
    },
    {
      "cell_type": "code",
      "source": [
        "def fib1(n):\n",
        "  \"\"\"Print a Fibonacci series up to n\"\"\"\n",
        "  a,b = 0,1 # set initial value\n",
        "  while a < n:\n",
        "    print(a, end = ' ')\n",
        "    a, b = b, a + b\n",
        "\n",
        "fib(2000)"
      ],
      "metadata": {
        "colab": {
          "base_uri": "https://localhost:8080/"
        },
        "id": "vCXGXn8L7eJ2",
        "outputId": "6146fd7a-9d65-4dde-f5ca-a0537a334095"
      },
      "execution_count": null,
      "outputs": [
        {
          "output_type": "stream",
          "name": "stdout",
          "text": [
            "0 1 1 2 3 5 8 13 21 34 55 89 144 233 377 610 987 1597 "
          ]
        }
      ]
    },
    {
      "cell_type": "code",
      "source": [
        "def fib2(n):\n",
        "  \"\"\"Return a list containing the Fibonacci series up to n\"\"\"\n",
        "  res = []\n",
        "  a,b = 0,1 # set initial value\n",
        "  while a < n:\n",
        "    res.append(a)\n",
        "    a, b = b, a + b\n",
        "  return res\n",
        "\n",
        "fib2(2000)"
      ],
      "metadata": {
        "colab": {
          "base_uri": "https://localhost:8080/"
        },
        "id": "l8bUf_Nc9X6X",
        "outputId": "06d2dbb5-391f-494d-cf01-5319ba56d774"
      },
      "execution_count": null,
      "outputs": [
        {
          "output_type": "execute_result",
          "data": {
            "text/plain": [
              "[0, 1, 1, 2, 3, 5, 8, 13, 21, 34, 55, 89, 144, 233, 377, 610, 987, 1597]"
            ]
          },
          "metadata": {},
          "execution_count": 3
        }
      ]
    },
    {
      "cell_type": "markdown",
      "source": [
        "- 함수의 구조2\n",
        "```python\n",
        "lambda arguments : expression\n",
        "```"
      ],
      "metadata": {
        "id": "eilOcVH3-Gul"
      }
    },
    {
      "cell_type": "code",
      "source": [
        "fib = lambda n:n if n < 2 else fib(n-1) + fib(n-2) # lambda를 이용한 피보나치\n",
        "for i in range(1,10):\n",
        "  print(fib(i), end = ' ')"
      ],
      "metadata": {
        "colab": {
          "base_uri": "https://localhost:8080/"
        },
        "id": "X8p_2s4d-Nlw",
        "outputId": "a9a50ff9-445f-4e5c-ebec-66d2dca5f0ed"
      },
      "execution_count": null,
      "outputs": [
        {
          "output_type": "stream",
          "name": "stdout",
          "text": [
            "1 1 2 3 5 8 13 21 34 "
          ]
        }
      ]
    },
    {
      "cell_type": "code",
      "source": [
        "def sum_func1(n):\n",
        "  sum = 0\n",
        "  for i in range(1,n+1):\n",
        "    sum += i\n",
        "  return sum\n",
        "\n",
        "print(sum_func1(10))"
      ],
      "metadata": {
        "colab": {
          "base_uri": "https://localhost:8080/"
        },
        "id": "b4PvN0kb-c9H",
        "outputId": "9ed46cfb-9205-4bea-cb61-8848c3fc418a"
      },
      "execution_count": null,
      "outputs": [
        {
          "output_type": "stream",
          "name": "stdout",
          "text": [
            "55\n"
          ]
        }
      ]
    },
    {
      "cell_type": "code",
      "source": [
        "def sum_func2(n):\n",
        "  i = 1\n",
        "  sum = 0\n",
        "  while i <= n:\n",
        "    sum += i\n",
        "    i += 1\n",
        "  return sum\n",
        "\n",
        "print(sum_func2(10))"
      ],
      "metadata": {
        "colab": {
          "base_uri": "https://localhost:8080/"
        },
        "id": "wsLdIh4V_fkY",
        "outputId": "475eb0d2-09da-45d5-e797-18bad88e8635"
      },
      "execution_count": null,
      "outputs": [
        {
          "output_type": "stream",
          "name": "stdout",
          "text": [
            "55\n"
          ]
        }
      ]
    },
    {
      "cell_type": "code",
      "source": [
        "def normplt(m,s):\n",
        "    import numpy as np\n",
        "    import matplotlib.pyplot as plt\n",
        "    from scipy.stats import norm\n",
        "\n",
        "    x=np.arange(m-3*s,m+3*s,0.1)\n",
        "    plt.plot(x,norm.pdf(x,m,s),'b')\n",
        "    plt.title('Normal(Mean=' + str(m) +',STD='+str(s)+')PDF')\n",
        "    plt.show()\n",
        "\n",
        "def gamplt(a,b):\n",
        "    import numpy as np\n",
        "    import matplotlib.pyplot as plt\n",
        "    from scipy.stats import gamma\n",
        "\n",
        "    x=np.arange(0,a*b+6*a*b*b,0.1)\n",
        "    plt.plot(x,gamma.pdf(x,a,b),'b')\n",
        "    plt.title('Gamma(Alpha='+str(a)+',Beta='+str(b)+')PDF')\n",
        "    plt.show()"
      ],
      "metadata": {
        "id": "vO3e1M-oCxQe"
      },
      "execution_count": null,
      "outputs": []
    }
  ]
}