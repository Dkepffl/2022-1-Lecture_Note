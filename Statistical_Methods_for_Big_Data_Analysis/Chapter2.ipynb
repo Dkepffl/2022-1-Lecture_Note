{
  "nbformat": 4,
  "nbformat_minor": 0,
  "metadata": {
    "colab": {
      "name": "Chapter2.ipynb",
      "provenance": [],
      "collapsed_sections": [],
      "authorship_tag": "ABX9TyMZM/DI1RlxVve01ZjSr5mR",
      "include_colab_link": true
    },
    "kernelspec": {
      "name": "python3",
      "display_name": "Python 3"
    },
    "language_info": {
      "name": "python"
    }
  },
  "cells": [
    {
      "cell_type": "markdown",
      "metadata": {
        "id": "view-in-github",
        "colab_type": "text"
      },
      "source": [
        "<a href=\"https://colab.research.google.com/github/Dkepffl/2022-1-Lecture_Note/blob/main/Statistical_Methods_for_Big_Data_Analysis/Chapter2.ipynb\" target=\"_parent\"><img src=\"https://colab.research.google.com/assets/colab-badge.svg\" alt=\"Open In Colab\"/></a>"
      ]
    },
    {
      "cell_type": "markdown",
      "source": [
        "## **Chapter 2**\n",
        "### | 1. 기본 통계량 계산"
      ],
      "metadata": {
        "id": "dpoFtovuFH8k"
      }
    },
    {
      "cell_type": "code",
      "source": [
        "import numpy as np\n",
        "import pandas as pd\n",
        "import scipy as sp"
      ],
      "metadata": {
        "id": "vWRBL624FKZr"
      },
      "execution_count": null,
      "outputs": []
    },
    {
      "cell_type": "code",
      "source": [
        "fish_data = np.array([2, 3, 3, 4, 4, 4, 4, 5, 5, 6])"
      ],
      "metadata": {
        "id": "F0hARmQTFWWQ"
      },
      "execution_count": null,
      "outputs": []
    },
    {
      "cell_type": "code",
      "source": [
        "# sum\n",
        "print(sum(fish_data))\n",
        "\n",
        "# mean(평균)\n",
        "print(np.mean(fish_data))\n",
        "\n",
        "# variance(분산)\n",
        "sigma = np. var(fish_data, ddof = 1) # ddof = 0이면 잔차의 합을 1/n으로 나눈 경우(degrees of freedom)\n",
        "print(sigma) # Unbiased\n",
        "\n",
        "# standard variance(표준편차)\n",
        "print(np.sqrt(sigma))\n",
        "print(np.std(fish_data, ddof = 1))\n",
        "\n",
        "# Max, Min\n",
        "print(np.max(fish_data))\n",
        "print(np.min(fish_data))\n",
        "\n",
        "# median\n",
        "print(np. median(fish_data))\n",
        "\n",
        "# Quantile\n",
        "print(np.quantile(fish_data, .25)) # first quartile\n",
        "print(np.quantile(fish_data, .5)) # second quartile\n",
        "print(np.quantile(fish_data, .75)) # third quartile"
      ],
      "metadata": {
        "colab": {
          "base_uri": "https://localhost:8080/"
        },
        "id": "mqX1DoQfFf_y",
        "outputId": "fcaf9c25-f807-4d61-e329-d3514d792b1b"
      },
      "execution_count": null,
      "outputs": [
        {
          "output_type": "stream",
          "name": "stdout",
          "text": [
            "40\n",
            "4.0\n",
            "1.3333333333333333\n",
            "1.1547005383792515\n",
            "1.1547005383792515\n",
            "6\n",
            "2\n",
            "4.0\n",
            "3.25\n",
            "4.0\n",
            "4.75\n"
          ]
        }
      ]
    },
    {
      "cell_type": "markdown",
      "source": [
        "### | 2. sklearn of machine learning\n",
        "- Built-In dataset\n",
        "  + load_iris()\n",
        "  + load_diabetes()\n",
        "  + load_diabetes()\n",
        "  + load_linnerud()\n",
        "  + load_wine()\n",
        "  + load_breast_cancer() \n",
        "- DataseT\n",
        "  + data feature (설명변수, X), numpy 배열 형태 또는 Matrix\n",
        "  + target target (종속변수, Y), numpy 배열 형태 또는 Matrix\n",
        "  + Feature_names feature 데이터(X)의 이름\n",
        "  + target_names target 데이터(Y)의 이름\n",
        "  + DESCR 데이터 셋에 대한 설명\n",
        "  + filename : 데이터 셋의 파일 저장 위치(csv)"
      ],
      "metadata": {
        "id": "civlp05tG0k3"
      }
    },
    {
      "cell_type": "markdown",
      "source": [
        "### | 3. Regression"
      ],
      "metadata": {
        "id": "197pweFOHpj6"
      }
    },
    {
      "cell_type": "code",
      "source": [
        "from sklearn.linear_model import LinearRegression"
      ],
      "metadata": {
        "id": "3FdqHTvNH3d3"
      },
      "execution_count": null,
      "outputs": []
    },
    {
      "cell_type": "code",
      "source": [
        "model = LinearRegression()"
      ],
      "metadata": {
        "id": "y5ahLZaiH-IR"
      },
      "execution_count": null,
      "outputs": []
    },
    {
      "cell_type": "markdown",
      "source": [
        "- Residual $ r_i $ = $ Y_i - {Y'_i} $\n",
        "- LSE\n",
        "- 결정계수($ R^2 $) = $\\frac{SSR}{SST}$ = $1-\\frac{SSE}{SST}$ : Y의 변동량 중 모형이 설명할 수 있는 변동량의 비율."
      ],
      "metadata": {
        "id": "gOOayYrLIxLp"
      }
    }
  ]
}